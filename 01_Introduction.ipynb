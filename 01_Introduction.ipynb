{
 "cells": [
  {
   "cell_type": "markdown",
   "id": "3b4c705e-afdd-4caf-8eed-51b38ee3a357",
   "metadata": {},
   "source": [
    "# Introduction\n",
    "\n",
    "Oceanographic time series like any sequence of observational measures based on physical sensors is often missing data or has data that has failed a quality control check. Before this data can be used in subsequent data analysis workflow, it may be necessary to gap fill (\"impute\") the missing data. While for short gaps, simpler univariate methods are sufficient but when the gap is relatively long, machine learn methods are attractive option for estimating the missing data.\n",
    "\n",
    "This series of notebooks documents the analysis and comparion of several machine learning method for data imputation of time series. The time series chosen for analysis is the Center for Marine Applied Research (CMAR) Water Quality datasets hosted at CIOOS Atlantic.\n",
    "\n",
    "This project is an outcome of the Building Bridges Project (WPD2.2 Data Interpolation) from Canada's Oceans Supercluster."
   ]
  },
  {
   "cell_type": "code",
   "execution_count": null,
   "id": "477bd318-39c1-4f74-aa57-e37af703bf6a",
   "metadata": {},
   "outputs": [],
   "source": []
  }
 ],
 "metadata": {
  "kernelspec": {
   "display_name": "Python 3 (ipykernel)",
   "language": "python",
   "name": "python3"
  },
  "language_info": {
   "codemirror_mode": {
    "name": "ipython",
    "version": 3
   },
   "file_extension": ".py",
   "mimetype": "text/x-python",
   "name": "python",
   "nbconvert_exporter": "python",
   "pygments_lexer": "ipython3",
   "version": "3.10.16"
  }
 },
 "nbformat": 4,
 "nbformat_minor": 5
}
