{
 "cells": [
  {
   "cell_type": "markdown",
   "id": "5b163cbd-2085-4820-a9c8-45be5a114d15",
   "metadata": {},
   "source": [
    "# 1. Introduction"
   ]
  },
  {
   "cell_type": "markdown",
   "id": "a3227e90-a151-4e27-97c2-70470f567ce5",
   "metadata": {},
   "source": [
    "Oceanographic time series, like many observational measurements based on physical sensors, are often incomplete. Due to sensor limitations, interference, malfunctions and other concerns, there is often missing data, or data that has failed a quality control check. Before these datasets can be used in subsequent data analysis workflows, it may be necessary to gap fill (or “impute”) the missing or suspect data. \n",
    "    "
   ]
  },
  {
   "cell_type": "markdown",
   "id": "f458c22e-b306-4d7f-a82e-6c4fd646d269",
   "metadata": {},
   "source": [
    "```{image} impute_illustration.png\n",
    ":alt: Description of the image\n",
    ":width: 400px\n",
    ":align: center\n",
    ":class: custom-style\n",
    "```"
   ]
  },
  {
   "cell_type": "markdown",
   "id": "d6acaade-72f4-4d81-95d2-b25f76b46b86",
   "metadata": {},
   "source": [
    "While simple univariate methods may suffice for short gaps, they are not sufficiently accurate for longer gaps. In such instances, machine learning methods are an attractive option: these multivariate solutions estimate missing data by examining the relationship between two (or more) variables in order to predict patterns. These variables might be ocean observations recorded at the same location, or may be observations from multiple sites–such as different depths or geographically-adjacent locations."
   ]
  },
  {
   "cell_type": "markdown",
   "id": "99f7fbc2-3f9b-43b4-80e6-022bfa81cec2",
   "metadata": {},
   "source": [
    "To demonstrate the concept, this series of notebooks documents the comparison of several machine learning methods for imputation of time series. The time series chosen for analysis was the Center for Marine Applied Research (CMAR) Water Quality datasets hosted at CIOOS Atlantic, using data collected over a four-year period. To validate the approach, a dataset from the East Atlantic Coast Aquatic Invasive Species (AIS) Monitoring Program is also presented."
   ]
  },
  {
   "cell_type": "markdown",
   "id": "44194e9a-2326-4eaf-9c96-13906af56ac7",
   "metadata": {},
   "source": [
    "In both case studies `missForest` provided the best compromise between accuracy and speed of analysis. Although this is consistent with the literature, these examples explore only a small subset of oceanographic data, and we do not allege that this solution is optimal in all circumstances–the optimal algorithm may depend on the features of the dataset. "
   ]
  },
  {
   "cell_type": "markdown",
   "id": "33f314ce-2134-4da7-9d13-f001fea92dec",
   "metadata": {},
   "source": [
    "To assist users with determining the best solution for their own dataset, this work presents a reusable structure for imputing data.\n",
    "\n",
    "\n",
    "E.g., to format your data so it is compatible with these notebooks, see x. (Note: mention that dataset must be in CSV format and titled 'dataset'.)"
   ]
  },
  {
   "cell_type": "markdown",
   "id": "12927312-569b-4df1-a081-6440d506695f",
   "metadata": {},
   "source": [
    "<hr>\n",
    "\n",
    "This project is an outcome of Building Bridges, a project funded by Canada’s Oceans Supercluster."
   ]
  },
  {
   "cell_type": "markdown",
   "id": "dba9eb43-23d1-498c-bb5c-db56e7dd993a",
   "metadata": {},
   "source": [
    "## Outline"
   ]
  },
  {
   "cell_type": "markdown",
   "id": "47f2536b-ee01-48c8-adce-81eedc0626cc",
   "metadata": {},
   "source": [
    "1. Introduction: this notebook\n",
    "2. Data Exploration: always begin with visualizing your data\n",
    "3. Imputation: the different imputation algorithms we are considering in this analysis\n",
    "4. Experiments: demonstration that for the datasets considered, the `missForest` algorithm performs best\n",
    "6. Case Study: Shelborne County Water Quality\n",
    "7. Case Study: AIS\n",
    "8. Case Study: CMAR Water Quality\n",
    "9. Case Study: Bring your own data!\n",
    "10. Appendix: Hyperparameter tuning\n",
    "11. Appendix: Various additional visualization routines"
   ]
  },
  {
   "cell_type": "code",
   "execution_count": null,
   "id": "6eb0e88e-9ede-4e0e-8d09-709eed3ef8ae",
   "metadata": {},
   "outputs": [],
   "source": []
  }
 ],
 "metadata": {
  "kernelspec": {
   "display_name": "Python 3 (ipykernel)",
   "language": "python",
   "name": "python3"
  },
  "language_info": {
   "codemirror_mode": {
    "name": "ipython",
    "version": 3
   },
   "file_extension": ".py",
   "mimetype": "text/x-python",
   "name": "python",
   "nbconvert_exporter": "python",
   "pygments_lexer": "ipython3",
   "version": "3.13.5"
  }
 },
 "nbformat": 4,
 "nbformat_minor": 5
}
