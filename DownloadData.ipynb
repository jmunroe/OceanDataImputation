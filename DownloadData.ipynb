{
 "cells": [
  {
   "cell_type": "markdown",
   "id": "a39ceecc-6a8a-44e8-8b7f-499d7159705f",
   "metadata": {},
   "source": [
    ":::{note}\n",
    "This notebook documents how to download the data from the ERDDAP on CIOOS Atlantic.\n",
    "\n",
    "The outcome of this notebooks is the file `metadata.csv` which is already included in the repository.\n",
    ":::"
   ]
  },
  {
   "cell_type": "markdown",
   "id": "42806ce7-2db6-4054-847e-abff037117eb",
   "metadata": {},
   "source": [
    "# Download the Dataset"
   ]
  },
  {
   "cell_type": "markdown",
   "id": "381c8aa7-3d61-4bb7-83ac-3eff7edce47c",
   "metadata": {},
   "source": [
    "We want to analyze the Centre for Marine Applied Research ([CMAR](https://cmar.ca/coastal-monitoring-program/#data)) Water Quality dataset."
   ]
  },
  {
   "cell_type": "markdown",
   "id": "b53b701d-4447-43c5-b593-a7ff38272a2d",
   "metadata": {},
   "source": [
    "<img src=\"https://cmar.ca/wp-content/themes/cmar/images/logo-cmar.png\" width=\"30%\">"
   ]
  },
  {
   "cell_type": "markdown",
   "id": "eaf5993a-8fc6-49a6-8225-b1082a6bf54d",
   "metadata": {},
   "source": [
    "<img src=\"https://cmar.ca/wp-content/uploads/sites/22/2023/12/Detailed-Version-Flipped-2-768x994.png\" width=\"30%\"/>"
   ]
  },
  {
   "cell_type": "code",
   "execution_count": 2,
   "id": "c72b90ae-bb69-4a0d-93b4-e8243be5a9a7",
   "metadata": {},
   "outputs": [],
   "source": [
    "from erddapy import ERDDAP\n",
    "import os\n",
    "import pandas as pd\n",
    "from tqdm.notebook import tqdm"
   ]
  },
  {
   "cell_type": "markdown",
   "id": "d0524ba6-61a9-4abf-aa42-e292fe9b2e2d",
   "metadata": {},
   "source": [
    "The data is available from [CIOOS Atlantic](https://catalogue.cioosatlantic.ca/en/organization/cmar)"
   ]
  },
  {
   "cell_type": "code",
   "execution_count": 3,
   "id": "5f654754-8524-481b-bd99-1e23edc61d6a",
   "metadata": {},
   "outputs": [],
   "source": [
    "e = ERDDAP(\n",
    "    server = \"https://cioosatlantic.ca/erddap\",\n",
    "    protocol = \"tabledap\"\n",
    ")"
   ]
  },
  {
   "cell_type": "markdown",
   "id": "cbf643f8-f247-4f05-92cd-761b62d739e0",
   "metadata": {},
   "source": [
    "Determine the `datasetID` for each CMAR Water Quality dataset."
   ]
  },
  {
   "cell_type": "markdown",
   "id": "b8c36303-8185-407b-8835-485d36112388",
   "metadata": {},
   "source": [
    "The study period is 2020-09-01 to 2024-08-31."
   ]
  },
  {
   "cell_type": "code",
   "execution_count": 4,
   "id": "49d3352f-9407-4222-871f-582eb77f284b",
   "metadata": {},
   "outputs": [],
   "source": [
    "e.dataset_id = 'allDatasets'\n",
    "e.variables = ['datasetID', 'institution', 'title', 'minTime', 'maxTime']\n",
    "\n",
    "# only grab data from county with data within study period\n",
    "e.constraints = {'maxTime>=': '2020-09-01', 'minTime<=': '2024-08-31'}\n",
    "df_allDatasets = e.to_pandas()"
   ]
  },
  {
   "cell_type": "code",
   "execution_count": 5,
   "id": "2fb864e2-3f66-46cc-8361-a857f8e4b830",
   "metadata": {
    "scrolled": true
   },
   "outputs": [
    {
     "data": {
      "text/html": [
       "<div>\n",
       "<style scoped>\n",
       "    .dataframe tbody tr th:only-of-type {\n",
       "        vertical-align: middle;\n",
       "    }\n",
       "\n",
       "    .dataframe tbody tr th {\n",
       "        vertical-align: top;\n",
       "    }\n",
       "\n",
       "    .dataframe thead th {\n",
       "        text-align: right;\n",
       "    }\n",
       "</style>\n",
       "<table border=\"1\" class=\"dataframe\">\n",
       "  <thead>\n",
       "    <tr style=\"text-align: right;\">\n",
       "      <th></th>\n",
       "      <th>datasetID</th>\n",
       "      <th>institution</th>\n",
       "      <th>title</th>\n",
       "      <th>minTime (UTC)</th>\n",
       "      <th>maxTime (UTC)</th>\n",
       "      <th>county</th>\n",
       "    </tr>\n",
       "  </thead>\n",
       "  <tbody>\n",
       "    <tr>\n",
       "      <th>25</th>\n",
       "      <td>eda5-aubu</td>\n",
       "      <td>CMAR</td>\n",
       "      <td>Lunenburg County Water Quality Data</td>\n",
       "      <td>2015-11-17T17:00:00Z</td>\n",
       "      <td>2024-11-21T16:15:00Z</td>\n",
       "      <td>Lunenburg</td>\n",
       "    </tr>\n",
       "    <tr>\n",
       "      <th>10</th>\n",
       "      <td>gfri-gzxa</td>\n",
       "      <td>Centre for Marine Applied Research (CMAR)</td>\n",
       "      <td>Colchester County Water Quality Data</td>\n",
       "      <td>2020-10-01T14:00:00Z</td>\n",
       "      <td>2023-06-07T13:16:25Z</td>\n",
       "      <td>Colchester</td>\n",
       "    </tr>\n",
       "    <tr>\n",
       "      <th>56</th>\n",
       "      <td>mq2k-54s4</td>\n",
       "      <td>CMAR</td>\n",
       "      <td>Shelburne County Water Quality Data</td>\n",
       "      <td>2018-02-13T16:32:00Z</td>\n",
       "      <td>2024-07-25T12:15:00Z</td>\n",
       "      <td>Shelburne</td>\n",
       "    </tr>\n",
       "    <tr>\n",
       "      <th>54</th>\n",
       "      <td>v6sa-tiit</td>\n",
       "      <td>Centre for Marine Applied Research (CMAR)</td>\n",
       "      <td>Richmond County Water Quality Data</td>\n",
       "      <td>2015-11-26T21:00:00Z</td>\n",
       "      <td>2024-10-17T17:49:38Z</td>\n",
       "      <td>Richmond</td>\n",
       "    </tr>\n",
       "    <tr>\n",
       "      <th>16</th>\n",
       "      <td>eb3n-uxcb</td>\n",
       "      <td>Centre for Marine Applied Research (CMAR)</td>\n",
       "      <td>Guysborough County Water Quality Data</td>\n",
       "      <td>2015-07-29T04:00:00Z</td>\n",
       "      <td>2024-11-07T14:59:10Z</td>\n",
       "      <td>Guysborough</td>\n",
       "    </tr>\n",
       "  </tbody>\n",
       "</table>\n",
       "</div>"
      ],
      "text/plain": [
       "    datasetID                                institution  \\\n",
       "25  eda5-aubu                                       CMAR   \n",
       "10  gfri-gzxa  Centre for Marine Applied Research (CMAR)   \n",
       "56  mq2k-54s4                                       CMAR   \n",
       "54  v6sa-tiit  Centre for Marine Applied Research (CMAR)   \n",
       "16  eb3n-uxcb  Centre for Marine Applied Research (CMAR)   \n",
       "\n",
       "                                    title         minTime (UTC)  \\\n",
       "25    Lunenburg County Water Quality Data  2015-11-17T17:00:00Z   \n",
       "10   Colchester County Water Quality Data  2020-10-01T14:00:00Z   \n",
       "56    Shelburne County Water Quality Data  2018-02-13T16:32:00Z   \n",
       "54     Richmond County Water Quality Data  2015-11-26T21:00:00Z   \n",
       "16  Guysborough County Water Quality Data  2015-07-29T04:00:00Z   \n",
       "\n",
       "           maxTime (UTC)       county  \n",
       "25  2024-11-21T16:15:00Z    Lunenburg  \n",
       "10  2023-06-07T13:16:25Z   Colchester  \n",
       "56  2024-07-25T12:15:00Z    Shelburne  \n",
       "54  2024-10-17T17:49:38Z     Richmond  \n",
       "16  2024-11-07T14:59:10Z  Guysborough  "
      ]
     },
     "execution_count": 5,
     "metadata": {},
     "output_type": "execute_result"
    }
   ],
   "source": [
    "df_CMAR_datasets = df_allDatasets[df_allDatasets['institution'].str.contains('CMAR') & df_allDatasets['title'].str.contains('Water Quality Data')].copy()\n",
    "df_CMAR_datasets['county'] = df_CMAR_datasets['title'].str.removesuffix(' County Water Quality Data')\n",
    "\n",
    "df_CMAR_datasets.sample(5)"
   ]
  },
  {
   "cell_type": "markdown",
   "id": "30d65d85-f617-49c9-91a3-93cc206d8748",
   "metadata": {},
   "source": [
    "For each of these datasets, we download the temperature data locally."
   ]
  },
  {
   "cell_type": "code",
   "execution_count": 6,
   "id": "aa3d3756-3151-4b8f-839c-3b36343f3506",
   "metadata": {},
   "outputs": [],
   "source": [
    "e.variables = [\n",
    " 'waterbody',\n",
    " 'station',\n",
    " 'deployment_start_date',\n",
    " 'deployment_end_date',\n",
    " 'time',\n",
    " 'depth',\n",
    " 'temperature',\n",
    " 'qc_flag_temperature']\n",
    "\n",
    "e.constraints = { \"time>=\": \"2020-09-01\", \"time<=\": \"2024-08-31\" }"
   ]
  },
  {
   "cell_type": "markdown",
   "id": "e86269ee-a5d9-4c9b-ac17-f9119c5be34a",
   "metadata": {},
   "source": [
    "This step takes 10-15 minutes so we locally cache the data so it only has to be downloaded once."
   ]
  },
  {
   "cell_type": "code",
   "execution_count": 8,
   "id": "91bba0d2-d750-4d8b-817c-3a0e0a507081",
   "metadata": {},
   "outputs": [
    {
     "name": "stdout",
     "output_type": "stream",
     "text": [
      "CPU times: user 1.81 ms, sys: 30 μs, total: 1.84 ms\n",
      "Wall time: 1.53 ms\n"
     ]
    }
   ],
   "source": [
    "%%time\n",
    "\n",
    "os.makedirs('data', exist_ok=True)\n",
    "\n",
    "for index, row in df_CMAR_datasets.iterrows():\n",
    "\n",
    "    csvfile = f\"data/{row['county']}.csv.gz\"\n",
    "\n",
    "    if os.path.exists(csvfile):\n",
    "        continue\n",
    "\n",
    "    print(f\"Downloading {row['title']}...\")\n",
    "    e.dataset_id = row['datasetID']\n",
    "    df = e.to_pandas()\n",
    "\n",
    "    df.to_csv(csvfile, compression='gzip', index=False)"
   ]
  },
  {
   "cell_type": "markdown",
   "id": "d1eb9909-6101-4a4c-bd84-d6bc964c83b2",
   "metadata": {},
   "source": [
    "We now have the following `.csv` files stored locally:"
   ]
  },
  {
   "cell_type": "code",
   "execution_count": 9,
   "id": "871000f7-c0b9-4c3a-905e-ac7c4870918c",
   "metadata": {},
   "outputs": [
    {
     "name": "stdout",
     "output_type": "stream",
     "text": [
      "total 107M\n",
      "-rw-r--r-- 1 jovyan jovyan 1.4M Jul 31 23:58 Annapolis.csv.gz\n",
      "-rw-r--r-- 1 jovyan jovyan 4.9M Jul 31 23:58 Antigonish.csv.gz\n",
      "-rw-r--r-- 1 jovyan jovyan 1.3M Jul 31 23:59 Colchester.csv.gz\n",
      "-rw-r--r-- 1 jovyan jovyan 5.7M Jul 31 23:59 Digby.csv.gz\n",
      "-rw-r--r-- 1 jovyan jovyan  45M Aug  1 00:00 Guysborough.csv.gz\n",
      "-rw-r--r-- 1 jovyan jovyan 7.9M Aug  1 00:00 Halifax.csv.gz\n",
      "-rw-r--r-- 1 jovyan jovyan 1.5M Aug  1 00:01 Inverness.csv.gz\n",
      "-rw-r--r-- 1 jovyan jovyan  17M Aug  1 00:05 Lunenburg.csv.gz\n",
      "-rw-r--r-- 1 jovyan jovyan 2.0M Aug  1 00:05 Pictou.csv.gz\n",
      "-rw-r--r-- 1 jovyan jovyan 2.9M Aug  1 00:06 Queens.csv.gz\n",
      "-rw-r--r-- 1 jovyan jovyan 3.5M Aug  1 00:08 Richmond.csv.gz\n",
      "-rw-r--r-- 1 jovyan jovyan 6.4M Aug  1 00:09 Shelburne.csv.gz\n",
      "-rw-r--r-- 1 jovyan jovyan 8.1K Aug  1 00:09 Victoria.csv.gz\n",
      "-rw-r--r-- 1 jovyan jovyan 8.3M Aug  1 00:12 Yarmouth.csv.gz\n"
     ]
    }
   ],
   "source": [
    "!ls -lh data/"
   ]
  },
  {
   "cell_type": "markdown",
   "id": "7d2ae14c-904a-4141-8646-ba42a97d78cd",
   "metadata": {},
   "source": [
    "We need to organize and sort the observations so that we are considering only the observation for a single sensor in temporal order.\n",
    "\n",
    "This will remove all of the duplicated metadata within this `.csv` files."
   ]
  },
  {
   "cell_type": "code",
   "execution_count": 10,
   "id": "56df1e50-d534-4bde-a937-a761efe199a0",
   "metadata": {},
   "outputs": [
    {
     "data": {
      "application/vnd.jupyter.widget-view+json": {
       "model_id": "04b3c8c9d9ca46dc9805e393401e55cc",
       "version_major": 2,
       "version_minor": 0
      },
      "text/plain": [
       "  0%|          | 0/14 [00:00<?, ?it/s]"
      ]
     },
     "metadata": {},
     "output_type": "display_data"
    }
   ],
   "source": [
    "os.makedirs('segments', exist_ok=True)\n",
    "\n",
    "all_segment_metadata = []\n",
    "for index, row in tqdm(list(df_CMAR_datasets.iterrows())):\n",
    "\n",
    "    csvfile = f\"data/{row['county']}.csv.gz\"\n",
    "\n",
    "    df = pd.read_csv(csvfile)\n",
    "    \n",
    "    df['segment'] = df[['waterbody', 'station', 'depth (m)',\n",
    "                     'deployment_start_date (UTC)', 'deployment_end_date (UTC)',\n",
    "                     ]].agg(lambda x: row['county'] + '_' + '_'.join([str(y) for y in x]), axis=1)\n",
    "\n",
    "    df_metadata = df[['segment', 'waterbody', 'station', 'depth (m)',\n",
    "                     'deployment_start_date (UTC)', 'deployment_end_date (UTC)',\n",
    "                     ]]\n",
    "\n",
    "    df_metadata = df_metadata.drop_duplicates()\n",
    "    all_segment_metadata.append(df_metadata)\n",
    "    \n",
    "    df_data = df.drop(columns=['waterbody', 'station', 'depth (m)',\n",
    "                                 'deployment_start_date (UTC)', 'deployment_end_date (UTC)',\n",
    "                              ])\n",
    "    \n",
    "    df_data = df_data.sort_values(by=['segment', 'time (UTC)'])\n",
    "\n",
    "    df_data.set_index(['segment', 'time (UTC)'], inplace=True)\n",
    "\n",
    "    for key, segment_df in df_data.groupby(level=0):\n",
    "        csvfile = f'segments/{key}.csv'\n",
    "        segment_df = segment_df.droplevel(0)\n",
    "        segment_df.to_csv(csvfile)\n",
    "\n",
    "df_metadata = pd.concat(all_segment_metadata)\n",
    "df_metadata.set_index('segment', inplace=True)\n",
    "df_metadata.to_csv('metadata.csv')"
   ]
  },
  {
   "cell_type": "code",
   "execution_count": 11,
   "id": "e64f0948-c8c0-4b85-9521-2d6ed8c62107",
   "metadata": {},
   "outputs": [
    {
     "name": "stdout",
     "output_type": "stream",
     "text": [
      "   1082   12409  145901\n"
     ]
    }
   ],
   "source": [
    "!ls -lh segments/ | wc"
   ]
  },
  {
   "cell_type": "markdown",
   "id": "6ce2055f-9c3d-4408-8107-011205c95595",
   "metadata": {},
   "source": [
    "We have 852 distinct observational time series taken at various locations and depths around Nova Scotia during the period of 2020-09-01 to 2024-08-31"
   ]
  },
  {
   "cell_type": "code",
   "execution_count": 12,
   "id": "c573b06c-4028-4425-ad1b-bbbe411d1a43",
   "metadata": {},
   "outputs": [
    {
     "data": {
      "text/html": [
       "<div>\n",
       "<style scoped>\n",
       "    .dataframe tbody tr th:only-of-type {\n",
       "        vertical-align: middle;\n",
       "    }\n",
       "\n",
       "    .dataframe tbody tr th {\n",
       "        vertical-align: top;\n",
       "    }\n",
       "\n",
       "    .dataframe thead th {\n",
       "        text-align: right;\n",
       "    }\n",
       "</style>\n",
       "<table border=\"1\" class=\"dataframe\">\n",
       "  <thead>\n",
       "    <tr style=\"text-align: right;\">\n",
       "      <th></th>\n",
       "      <th>waterbody</th>\n",
       "      <th>station</th>\n",
       "      <th>depth (m)</th>\n",
       "      <th>deployment_start_date (UTC)</th>\n",
       "      <th>deployment_end_date (UTC)</th>\n",
       "    </tr>\n",
       "    <tr>\n",
       "      <th>segment</th>\n",
       "      <th></th>\n",
       "      <th></th>\n",
       "      <th></th>\n",
       "      <th></th>\n",
       "      <th></th>\n",
       "    </tr>\n",
       "  </thead>\n",
       "  <tbody>\n",
       "    <tr>\n",
       "      <th>Annapolis_Annapolis Basin_Cornwallis_2.0_2020-06-11T00:00:00Z_2020-11-22T00:00:00Z</th>\n",
       "      <td>Annapolis Basin</td>\n",
       "      <td>Cornwallis</td>\n",
       "      <td>2.0</td>\n",
       "      <td>2020-06-11T00:00:00Z</td>\n",
       "      <td>2020-11-22T00:00:00Z</td>\n",
       "    </tr>\n",
       "    <tr>\n",
       "      <th>Annapolis_Annapolis Basin_Lobster Ledge_2.0_2020-06-11T00:00:00Z_2020-11-22T00:00:00Z</th>\n",
       "      <td>Annapolis Basin</td>\n",
       "      <td>Lobster Ledge</td>\n",
       "      <td>2.0</td>\n",
       "      <td>2020-06-11T00:00:00Z</td>\n",
       "      <td>2020-11-22T00:00:00Z</td>\n",
       "    </tr>\n",
       "    <tr>\n",
       "      <th>Annapolis_Annapolis Basin_Lobster Ledge_6.0_2020-06-11T00:00:00Z_2020-11-22T00:00:00Z</th>\n",
       "      <td>Annapolis Basin</td>\n",
       "      <td>Lobster Ledge</td>\n",
       "      <td>6.0</td>\n",
       "      <td>2020-06-11T00:00:00Z</td>\n",
       "      <td>2020-11-22T00:00:00Z</td>\n",
       "    </tr>\n",
       "    <tr>\n",
       "      <th>Annapolis_Annapolis Basin_Lobster Ledge_4.0_2020-06-11T00:00:00Z_2020-11-22T00:00:00Z</th>\n",
       "      <td>Annapolis Basin</td>\n",
       "      <td>Lobster Ledge</td>\n",
       "      <td>4.0</td>\n",
       "      <td>2020-06-11T00:00:00Z</td>\n",
       "      <td>2020-11-22T00:00:00Z</td>\n",
       "    </tr>\n",
       "    <tr>\n",
       "      <th>Annapolis_Annapolis Basin_Cornwallis_1.0_2020-06-11T00:00:00Z_2020-11-22T00:00:00Z</th>\n",
       "      <td>Annapolis Basin</td>\n",
       "      <td>Cornwallis</td>\n",
       "      <td>1.0</td>\n",
       "      <td>2020-06-11T00:00:00Z</td>\n",
       "      <td>2020-11-22T00:00:00Z</td>\n",
       "    </tr>\n",
       "    <tr>\n",
       "      <th>Annapolis_Annapolis Basin_Cornwallis_1.0_2020-11-22T00:00:00Z_2021-06-16T00:00:00Z</th>\n",
       "      <td>Annapolis Basin</td>\n",
       "      <td>Cornwallis</td>\n",
       "      <td>1.0</td>\n",
       "      <td>2020-11-22T00:00:00Z</td>\n",
       "      <td>2021-06-16T00:00:00Z</td>\n",
       "    </tr>\n",
       "    <tr>\n",
       "      <th>Annapolis_Annapolis Basin_Cornwallis_2.0_2020-11-22T00:00:00Z_2021-06-16T00:00:00Z</th>\n",
       "      <td>Annapolis Basin</td>\n",
       "      <td>Cornwallis</td>\n",
       "      <td>2.0</td>\n",
       "      <td>2020-11-22T00:00:00Z</td>\n",
       "      <td>2021-06-16T00:00:00Z</td>\n",
       "    </tr>\n",
       "    <tr>\n",
       "      <th>Annapolis_Annapolis Basin_Lobster Ledge_6.0_2020-11-22T00:00:00Z_2021-06-16T00:00:00Z</th>\n",
       "      <td>Annapolis Basin</td>\n",
       "      <td>Lobster Ledge</td>\n",
       "      <td>6.0</td>\n",
       "      <td>2020-11-22T00:00:00Z</td>\n",
       "      <td>2021-06-16T00:00:00Z</td>\n",
       "    </tr>\n",
       "  </tbody>\n",
       "</table>\n",
       "</div>"
      ],
      "text/plain": [
       "                                                          waterbody  \\\n",
       "segment                                                               \n",
       "Annapolis_Annapolis Basin_Cornwallis_2.0_2020-0...  Annapolis Basin   \n",
       "Annapolis_Annapolis Basin_Lobster Ledge_2.0_202...  Annapolis Basin   \n",
       "Annapolis_Annapolis Basin_Lobster Ledge_6.0_202...  Annapolis Basin   \n",
       "Annapolis_Annapolis Basin_Lobster Ledge_4.0_202...  Annapolis Basin   \n",
       "Annapolis_Annapolis Basin_Cornwallis_1.0_2020-0...  Annapolis Basin   \n",
       "Annapolis_Annapolis Basin_Cornwallis_1.0_2020-1...  Annapolis Basin   \n",
       "Annapolis_Annapolis Basin_Cornwallis_2.0_2020-1...  Annapolis Basin   \n",
       "Annapolis_Annapolis Basin_Lobster Ledge_6.0_202...  Annapolis Basin   \n",
       "\n",
       "                                                          station  depth (m)  \\\n",
       "segment                                                                        \n",
       "Annapolis_Annapolis Basin_Cornwallis_2.0_2020-0...     Cornwallis        2.0   \n",
       "Annapolis_Annapolis Basin_Lobster Ledge_2.0_202...  Lobster Ledge        2.0   \n",
       "Annapolis_Annapolis Basin_Lobster Ledge_6.0_202...  Lobster Ledge        6.0   \n",
       "Annapolis_Annapolis Basin_Lobster Ledge_4.0_202...  Lobster Ledge        4.0   \n",
       "Annapolis_Annapolis Basin_Cornwallis_1.0_2020-0...     Cornwallis        1.0   \n",
       "Annapolis_Annapolis Basin_Cornwallis_1.0_2020-1...     Cornwallis        1.0   \n",
       "Annapolis_Annapolis Basin_Cornwallis_2.0_2020-1...     Cornwallis        2.0   \n",
       "Annapolis_Annapolis Basin_Lobster Ledge_6.0_202...  Lobster Ledge        6.0   \n",
       "\n",
       "                                                   deployment_start_date (UTC)  \\\n",
       "segment                                                                          \n",
       "Annapolis_Annapolis Basin_Cornwallis_2.0_2020-0...        2020-06-11T00:00:00Z   \n",
       "Annapolis_Annapolis Basin_Lobster Ledge_2.0_202...        2020-06-11T00:00:00Z   \n",
       "Annapolis_Annapolis Basin_Lobster Ledge_6.0_202...        2020-06-11T00:00:00Z   \n",
       "Annapolis_Annapolis Basin_Lobster Ledge_4.0_202...        2020-06-11T00:00:00Z   \n",
       "Annapolis_Annapolis Basin_Cornwallis_1.0_2020-0...        2020-06-11T00:00:00Z   \n",
       "Annapolis_Annapolis Basin_Cornwallis_1.0_2020-1...        2020-11-22T00:00:00Z   \n",
       "Annapolis_Annapolis Basin_Cornwallis_2.0_2020-1...        2020-11-22T00:00:00Z   \n",
       "Annapolis_Annapolis Basin_Lobster Ledge_6.0_202...        2020-11-22T00:00:00Z   \n",
       "\n",
       "                                                   deployment_end_date (UTC)  \n",
       "segment                                                                       \n",
       "Annapolis_Annapolis Basin_Cornwallis_2.0_2020-0...      2020-11-22T00:00:00Z  \n",
       "Annapolis_Annapolis Basin_Lobster Ledge_2.0_202...      2020-11-22T00:00:00Z  \n",
       "Annapolis_Annapolis Basin_Lobster Ledge_6.0_202...      2020-11-22T00:00:00Z  \n",
       "Annapolis_Annapolis Basin_Lobster Ledge_4.0_202...      2020-11-22T00:00:00Z  \n",
       "Annapolis_Annapolis Basin_Cornwallis_1.0_2020-0...      2020-11-22T00:00:00Z  \n",
       "Annapolis_Annapolis Basin_Cornwallis_1.0_2020-1...      2021-06-16T00:00:00Z  \n",
       "Annapolis_Annapolis Basin_Cornwallis_2.0_2020-1...      2021-06-16T00:00:00Z  \n",
       "Annapolis_Annapolis Basin_Lobster Ledge_6.0_202...      2021-06-16T00:00:00Z  "
      ]
     },
     "execution_count": 12,
     "metadata": {},
     "output_type": "execute_result"
    }
   ],
   "source": [
    "df_metadata.head(8)"
   ]
  },
  {
   "cell_type": "code",
   "execution_count": null,
   "id": "2e12c441-2a48-4778-afa9-1cc76d44f407",
   "metadata": {},
   "outputs": [],
   "source": []
  },
  {
   "cell_type": "code",
   "execution_count": null,
   "id": "403cd36e-ce4d-49d8-aba4-7eed4eb1874c",
   "metadata": {},
   "outputs": [],
   "source": []
  }
 ],
 "metadata": {
  "kernelspec": {
   "display_name": "Python 3 (ipykernel)",
   "language": "python",
   "name": "python3"
  },
  "language_info": {
   "codemirror_mode": {
    "name": "ipython",
    "version": 3
   },
   "file_extension": ".py",
   "mimetype": "text/x-python",
   "name": "python",
   "nbconvert_exporter": "python",
   "pygments_lexer": "ipython3",
   "version": "3.10.16"
  }
 },
 "nbformat": 4,
 "nbformat_minor": 5
}
