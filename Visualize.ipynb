{
 "cells": [
  {
   "cell_type": "code",
   "execution_count": 13,
   "id": "e7101c05-bdd3-4713-8f3e-ceb00d3ba297",
   "metadata": {
    "scrolled": true
   },
   "outputs": [
    {
     "data": {
      "text/html": [
       "\n",
       "        <iframe\n",
       "            width=\"100%\"\n",
       "            height=\"650\"\n",
       "            src=\"http://127.0.0.1:8050/\"\n",
       "            frameborder=\"0\"\n",
       "            allowfullscreen\n",
       "            \n",
       "        ></iframe>\n",
       "        "
      ],
      "text/plain": [
       "<IPython.lib.display.IFrame at 0x7f2a969e6210>"
      ]
     },
     "metadata": {},
     "output_type": "display_data"
    }
   ],
   "source": [
    "import plotly.express as px\n",
    "import dash\n",
    "from dash import dcc, html\n",
    "from dash.dependencies import Input, Output\n",
    "import pandas as pd\n",
    "import yaml\n",
    "\n",
    "method = 'LR'\n",
    "\n",
    "\n",
    "method = \"MICE\"\n",
    "\n",
    "method = 'KNN'\n",
    "method = 'MF'\n",
    "gap_type = 'continuous'\n",
    "p = 35 # gap length\n",
    "q = 24 # number of missing sites\n",
    "\n",
    "with open(f'gaps_{gap_type}_{p}_{q}.yaml') as file:\n",
    "    metadata = yaml.safe_load(file)\n",
    "\n",
    "gaps = metadata['gaps']\n",
    "#print(metadata)\n",
    "cols = list(gaps.keys())\n",
    "\n",
    "suffix = f'_{gap_type}_{p}_{q}_{method}'\n",
    "df_imputed = pd.read_csv(f'sim{suffix}.csv', parse_dates=True, index_col=0)\n",
    "df = pd.read_csv(f'obs{suffix}.csv', parse_dates=True, index_col=0)\n",
    "\n",
    "# Initialize Dash app\n",
    "app = dash.Dash(__name__)\n",
    "\n",
    "app.layout = html.Div([\n",
    "    html.H1(\"Data Visualization with Column Selector\"),\n",
    "    dcc.Dropdown(\n",
    "        id='column-selector',\n",
    "        options=[{'label': col, 'value': col} for col in cols],\n",
    "        value = cols[0],\n",
    "     #   value = 'S_299',\n",
    "        #options=[{'label': col, 'value': col} for col in df.columns if col != 'time'],\n",
    "        #value=df.columns[49]  # Default column\n",
    "    ),\n",
    "    dcc.Graph(id='line-plot')\n",
    "])\n",
    "\n",
    "@app.callback(\n",
    "    Output('line-plot', 'figure'),\n",
    "    [Input('column-selector', 'value')]\n",
    ")\n",
    "def update_plot(selected_column):\n",
    "    fig = px.line(\n",
    "        df,\n",
    "        y=selected_column,\n",
    "        title=f\"Temperature at Site {selected_column}\"\n",
    "        \n",
    "    )\n",
    "\n",
    "    fig.add_scatter(x=df_imputed.index, \n",
    "                    y=df_imputed[selected_column], mode='lines', name = 'Imputed')\n",
    "\n",
    "    if selected_column in gaps:\n",
    "        fig.add_shape(\n",
    "            type=\"rect\",\n",
    "            x0=df.index[gaps[selected_column][0]],\n",
    "            x1=df.index[gaps[selected_column][1]],\n",
    "            y0=df_imputed[selected_column].min(skipna=True),\n",
    "            y1=df_imputed[selected_column].max(skipna=True),\n",
    "            fillcolor=\"lightgreen\",\n",
    "            opacity=0.8,\n",
    "            layer=\"below\",\n",
    "            line_width=0,\n",
    "        )\n",
    "\n",
    "    return fig\n",
    "\n",
    "if __name__ == '__main__':\n",
    "    app.run(debug=True)"
   ]
  },
  {
   "cell_type": "code",
   "execution_count": null,
   "id": "059a020a-cee0-4b46-9ba8-8d9fe0921886",
   "metadata": {},
   "outputs": [],
   "source": []
  },
  {
   "cell_type": "code",
   "execution_count": null,
   "id": "a87834b8-6c7c-4e2a-b0ac-3151ba994887",
   "metadata": {},
   "outputs": [],
   "source": []
  }
 ],
 "metadata": {
  "kernelspec": {
   "display_name": "Python 3 (ipykernel)",
   "language": "python",
   "name": "python3"
  },
  "language_info": {
   "codemirror_mode": {
    "name": "ipython",
    "version": 3
   },
   "file_extension": ".py",
   "mimetype": "text/x-python",
   "name": "python",
   "nbconvert_exporter": "python",
   "pygments_lexer": "ipython3",
   "version": "3.12.8"
  }
 },
 "nbformat": 4,
 "nbformat_minor": 5
}
