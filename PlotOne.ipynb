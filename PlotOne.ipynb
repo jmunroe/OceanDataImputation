{
 "cells": [
  {
   "cell_type": "code",
   "execution_count": 90,
   "id": "f2eb9888-ba2d-44e9-9b86-885ce0048dd1",
   "metadata": {},
   "outputs": [],
   "source": [
    "import pandas as pd\n",
    "import os\n",
    "import csv\n",
    "import numpy as np"
   ]
  },
  {
   "cell_type": "code",
   "execution_count": 78,
   "id": "5bb7f9e7-6318-429e-8a55-f9c06cfe02cc",
   "metadata": {},
   "outputs": [],
   "source": [
    "metadata = pd.read_csv('metadata.csv')"
   ]
  },
  {
   "cell_type": "code",
   "execution_count": 79,
   "id": "378682d7-2600-4379-87cd-4b872c2c99c1",
   "metadata": {},
   "outputs": [
    {
     "data": {
      "text/html": [
       "<div>\n",
       "<style scoped>\n",
       "    .dataframe tbody tr th:only-of-type {\n",
       "        vertical-align: middle;\n",
       "    }\n",
       "\n",
       "    .dataframe tbody tr th {\n",
       "        vertical-align: top;\n",
       "    }\n",
       "\n",
       "    .dataframe thead th {\n",
       "        text-align: right;\n",
       "    }\n",
       "</style>\n",
       "<table border=\"1\" class=\"dataframe\">\n",
       "  <thead>\n",
       "    <tr style=\"text-align: right;\">\n",
       "      <th></th>\n",
       "      <th>Unnamed: 0</th>\n",
       "      <th>county</th>\n",
       "      <th>index</th>\n",
       "      <th>waterbody</th>\n",
       "      <th>station</th>\n",
       "      <th>lease</th>\n",
       "      <th>latitude</th>\n",
       "      <th>longitude</th>\n",
       "      <th>deployment_range</th>\n",
       "      <th>string_configuration</th>\n",
       "      <th>sensor_type</th>\n",
       "      <th>sensor_serial_number</th>\n",
       "      <th>sensor_depth_at_low_tide_m</th>\n",
       "      <th>depth_crosscheck_flag</th>\n",
       "    </tr>\n",
       "  </thead>\n",
       "  <tbody>\n",
       "    <tr>\n",
       "      <th>0</th>\n",
       "      <td>0</td>\n",
       "      <td>Annapolis</td>\n",
       "      <td>0</td>\n",
       "      <td>Annapolis Basin</td>\n",
       "      <td>5006</td>\n",
       "      <td>5006</td>\n",
       "      <td>44.669583</td>\n",
       "      <td>-65.647733</td>\n",
       "      <td>2021-May-14 to 2021-Jun-18</td>\n",
       "      <td>attached to gear</td>\n",
       "      <td>hobo</td>\n",
       "      <td>20330413</td>\n",
       "      <td>1.3</td>\n",
       "      <td>NaN</td>\n",
       "    </tr>\n",
       "    <tr>\n",
       "      <th>1</th>\n",
       "      <td>1</td>\n",
       "      <td>Annapolis</td>\n",
       "      <td>360</td>\n",
       "      <td>Annapolis Basin</td>\n",
       "      <td>1042</td>\n",
       "      <td>1042</td>\n",
       "      <td>44.652855</td>\n",
       "      <td>-65.674531</td>\n",
       "      <td>2021-Aug-27 to 2022-May-23</td>\n",
       "      <td>attached to gear</td>\n",
       "      <td>aquameasure</td>\n",
       "      <td>671014</td>\n",
       "      <td>0.5</td>\n",
       "      <td>NaN</td>\n",
       "    </tr>\n",
       "    <tr>\n",
       "      <th>2</th>\n",
       "      <td>2</td>\n",
       "      <td>Annapolis</td>\n",
       "      <td>2126</td>\n",
       "      <td>Annapolis Basin</td>\n",
       "      <td>5005</td>\n",
       "      <td>5005</td>\n",
       "      <td>44.634167</td>\n",
       "      <td>-65.711933</td>\n",
       "      <td>2021-May-14 to 2021-Jun-18</td>\n",
       "      <td>attached to gear</td>\n",
       "      <td>aquameasure</td>\n",
       "      <td>680322</td>\n",
       "      <td>1.0</td>\n",
       "      <td>NaN</td>\n",
       "    </tr>\n",
       "    <tr>\n",
       "      <th>3</th>\n",
       "      <td>3</td>\n",
       "      <td>Annapolis</td>\n",
       "      <td>16048</td>\n",
       "      <td>Annapolis Basin</td>\n",
       "      <td>Cornwallis</td>\n",
       "      <td>NaN</td>\n",
       "      <td>44.669390</td>\n",
       "      <td>-65.644790</td>\n",
       "      <td>2020-Jun-11 to 2020-Nov-22</td>\n",
       "      <td>sub-surface buoy</td>\n",
       "      <td>aquameasure</td>\n",
       "      <td>670367</td>\n",
       "      <td>1.0</td>\n",
       "      <td>Pass</td>\n",
       "    </tr>\n",
       "    <tr>\n",
       "      <th>4</th>\n",
       "      <td>4</td>\n",
       "      <td>Annapolis</td>\n",
       "      <td>39618</td>\n",
       "      <td>Annapolis Basin</td>\n",
       "      <td>Cornwallis</td>\n",
       "      <td>NaN</td>\n",
       "      <td>44.669390</td>\n",
       "      <td>-65.644790</td>\n",
       "      <td>2020-Jun-11 to 2020-Nov-22</td>\n",
       "      <td>sub-surface buoy</td>\n",
       "      <td>vr2ar</td>\n",
       "      <td>547089</td>\n",
       "      <td>2.0</td>\n",
       "      <td>Pass</td>\n",
       "    </tr>\n",
       "    <tr>\n",
       "      <th>...</th>\n",
       "      <td>...</td>\n",
       "      <td>...</td>\n",
       "      <td>...</td>\n",
       "      <td>...</td>\n",
       "      <td>...</td>\n",
       "      <td>...</td>\n",
       "      <td>...</td>\n",
       "      <td>...</td>\n",
       "      <td>...</td>\n",
       "      <td>...</td>\n",
       "      <td>...</td>\n",
       "      <td>...</td>\n",
       "      <td>...</td>\n",
       "      <td>...</td>\n",
       "    </tr>\n",
       "    <tr>\n",
       "      <th>1693</th>\n",
       "      <td>8</td>\n",
       "      <td>Victoria</td>\n",
       "      <td>177281</td>\n",
       "      <td>Aspy Bay</td>\n",
       "      <td>North Harbour</td>\n",
       "      <td>NaN</td>\n",
       "      <td>46.911230</td>\n",
       "      <td>-60.474780</td>\n",
       "      <td>2018-Nov-01 to 2020-Sep-10</td>\n",
       "      <td>unknown</td>\n",
       "      <td>tidbit</td>\n",
       "      <td>20397521</td>\n",
       "      <td>5.0</td>\n",
       "      <td>NaN</td>\n",
       "    </tr>\n",
       "    <tr>\n",
       "      <th>1694</th>\n",
       "      <td>9</td>\n",
       "      <td>Victoria</td>\n",
       "      <td>242468</td>\n",
       "      <td>Bras d'Or Lakes</td>\n",
       "      <td>Nyanza Bay E</td>\n",
       "      <td>NaN</td>\n",
       "      <td>46.065243</td>\n",
       "      <td>-60.894831</td>\n",
       "      <td>2016-Sep-14 to 2018-Jul-05</td>\n",
       "      <td>attached to fixed structure</td>\n",
       "      <td>hobo</td>\n",
       "      <td>10034841</td>\n",
       "      <td>8.0</td>\n",
       "      <td>NaN</td>\n",
       "    </tr>\n",
       "    <tr>\n",
       "      <th>1695</th>\n",
       "      <td>10</td>\n",
       "      <td>Victoria</td>\n",
       "      <td>258284</td>\n",
       "      <td>Bras d'Or Lakes</td>\n",
       "      <td>Nyanza Bay W</td>\n",
       "      <td>NaN</td>\n",
       "      <td>46.064779</td>\n",
       "      <td>-60.902356</td>\n",
       "      <td>2016-Sep-14 to 2018-Jul-05</td>\n",
       "      <td>attached to fixed structure</td>\n",
       "      <td>hobo</td>\n",
       "      <td>10778920</td>\n",
       "      <td>8.0</td>\n",
       "      <td>NaN</td>\n",
       "    </tr>\n",
       "    <tr>\n",
       "      <th>1696</th>\n",
       "      <td>0</td>\n",
       "      <td>Cape_Breton</td>\n",
       "      <td>0</td>\n",
       "      <td>Bras d'Or Lakes</td>\n",
       "      <td>Little Bras d'Or Channel</td>\n",
       "      <td>NaN</td>\n",
       "      <td>46.296261</td>\n",
       "      <td>-60.287689</td>\n",
       "      <td>2016-Sep-13 to 2018-May-30</td>\n",
       "      <td>attached to fixed structure</td>\n",
       "      <td>hobo</td>\n",
       "      <td>10034844</td>\n",
       "      <td>8.0</td>\n",
       "      <td>NaN</td>\n",
       "    </tr>\n",
       "    <tr>\n",
       "      <th>1697</th>\n",
       "      <td>1</td>\n",
       "      <td>Cape_Breton</td>\n",
       "      <td>14977</td>\n",
       "      <td>Bras d'Or Lakes</td>\n",
       "      <td>St. Andrews Channel E</td>\n",
       "      <td>NaN</td>\n",
       "      <td>46.243290</td>\n",
       "      <td>-60.303110</td>\n",
       "      <td>2016-Sep-13 to 2018-May-30</td>\n",
       "      <td>attached to fixed structure</td>\n",
       "      <td>hobo</td>\n",
       "      <td>10034853</td>\n",
       "      <td>6.0</td>\n",
       "      <td>NaN</td>\n",
       "    </tr>\n",
       "  </tbody>\n",
       "</table>\n",
       "<p>1698 rows × 14 columns</p>\n",
       "</div>"
      ],
      "text/plain": [
       "      Unnamed: 0       county   index        waterbody  \\\n",
       "0              0    Annapolis       0  Annapolis Basin   \n",
       "1              1    Annapolis     360  Annapolis Basin   \n",
       "2              2    Annapolis    2126  Annapolis Basin   \n",
       "3              3    Annapolis   16048  Annapolis Basin   \n",
       "4              4    Annapolis   39618  Annapolis Basin   \n",
       "...          ...          ...     ...              ...   \n",
       "1693           8     Victoria  177281         Aspy Bay   \n",
       "1694           9     Victoria  242468  Bras d'Or Lakes   \n",
       "1695          10     Victoria  258284  Bras d'Or Lakes   \n",
       "1696           0  Cape_Breton       0  Bras d'Or Lakes   \n",
       "1697           1  Cape_Breton   14977  Bras d'Or Lakes   \n",
       "\n",
       "                       station lease   latitude  longitude  \\\n",
       "0                         5006  5006  44.669583 -65.647733   \n",
       "1                         1042  1042  44.652855 -65.674531   \n",
       "2                         5005  5005  44.634167 -65.711933   \n",
       "3                   Cornwallis   NaN  44.669390 -65.644790   \n",
       "4                   Cornwallis   NaN  44.669390 -65.644790   \n",
       "...                        ...   ...        ...        ...   \n",
       "1693             North Harbour   NaN  46.911230 -60.474780   \n",
       "1694              Nyanza Bay E   NaN  46.065243 -60.894831   \n",
       "1695              Nyanza Bay W   NaN  46.064779 -60.902356   \n",
       "1696  Little Bras d'Or Channel   NaN  46.296261 -60.287689   \n",
       "1697     St. Andrews Channel E   NaN  46.243290 -60.303110   \n",
       "\n",
       "                deployment_range         string_configuration  sensor_type  \\\n",
       "0     2021-May-14 to 2021-Jun-18             attached to gear         hobo   \n",
       "1     2021-Aug-27 to 2022-May-23             attached to gear  aquameasure   \n",
       "2     2021-May-14 to 2021-Jun-18             attached to gear  aquameasure   \n",
       "3     2020-Jun-11 to 2020-Nov-22             sub-surface buoy  aquameasure   \n",
       "4     2020-Jun-11 to 2020-Nov-22             sub-surface buoy        vr2ar   \n",
       "...                          ...                          ...          ...   \n",
       "1693  2018-Nov-01 to 2020-Sep-10                      unknown       tidbit   \n",
       "1694  2016-Sep-14 to 2018-Jul-05  attached to fixed structure         hobo   \n",
       "1695  2016-Sep-14 to 2018-Jul-05  attached to fixed structure         hobo   \n",
       "1696  2016-Sep-13 to 2018-May-30  attached to fixed structure         hobo   \n",
       "1697  2016-Sep-13 to 2018-May-30  attached to fixed structure         hobo   \n",
       "\n",
       "      sensor_serial_number  sensor_depth_at_low_tide_m depth_crosscheck_flag  \n",
       "0                 20330413                         1.3                   NaN  \n",
       "1                   671014                         0.5                   NaN  \n",
       "2                   680322                         1.0                   NaN  \n",
       "3                   670367                         1.0                  Pass  \n",
       "4                   547089                         2.0                  Pass  \n",
       "...                    ...                         ...                   ...  \n",
       "1693              20397521                         5.0                   NaN  \n",
       "1694              10034841                         8.0                   NaN  \n",
       "1695              10778920                         8.0                   NaN  \n",
       "1696              10034844                         8.0                   NaN  \n",
       "1697              10034853                         6.0                   NaN  \n",
       "\n",
       "[1698 rows x 14 columns]"
      ]
     },
     "execution_count": 79,
     "metadata": {},
     "output_type": "execute_result"
    }
   ],
   "source": [
    "metadata"
   ]
  },
  {
   "cell_type": "code",
   "execution_count": 88,
   "id": "8818c0c4-d116-4123-a741-3002faa738c7",
   "metadata": {},
   "outputs": [
    {
     "data": {
      "text/plain": [
       "Unnamed: 0                                           113\n",
       "county                                           Halifax\n",
       "index                                            2793926\n",
       "waterbody                              St. Margarets Bay\n",
       "station                                   Shut-In Island\n",
       "lease                                                NaN\n",
       "latitude                                       44.557485\n",
       "longitude                                     -63.954047\n",
       "deployment_range              2021-Nov-26 to 2022-May-12\n",
       "string_configuration                    sub-surface buoy\n",
       "sensor_type                                         hobo\n",
       "sensor_serial_number                            20834024\n",
       "sensor_depth_at_low_tide_m                           5.0\n",
       "depth_crosscheck_flag                               Pass\n",
       "Name: 132, dtype: object"
      ]
     },
     "metadata": {},
     "output_type": "display_data"
    }
   ],
   "source": [
    "segment_id = 132\n",
    "\n",
    "display(metadata.iloc[segment_id])\n",
    "\n",
    "# split into different measurement variables\n",
    "variables = ['dissolved_oxygen_percent_saturation',\n",
    "             'dissolved_oxygen_uncorrected_mg_per_l',\n",
    "             'salinity_psu',\n",
    "             'sensor_depth_measured_m',\n",
    "             'temperature_degree_c']\n",
    "\n",
    "variable = 'temperature_degree_c'"
   ]
  },
  {
   "cell_type": "code",
   "execution_count": 108,
   "id": "4e1c81a1-3941-41e3-b0c3-13872acc84c9",
   "metadata": {},
   "outputs": [
    {
     "data": {
      "text/plain": [
       "<Axes: xlabel='timestamp_utc'>"
      ]
     },
     "execution_count": 108,
     "metadata": {},
     "output_type": "execute_result"
    },
    {
     "data": {
      "image/png": "[encoded data removed]",
      "text/plain": [
       "<Figure size 640x480 with 1 Axes>"
      ]
     },
     "metadata": {},
     "output_type": "display_data"
    }
   ],
   "source": [
    "series_filename = os.path.join(variable, f'{segment_id}_{variable}.csv')\n",
    "series = pd.read_csv(series_filename, index_col='timestamp_utc', parse_dates=True, date_format=\"%m/%d/%Y %I:%M:%S %p\")\n",
    "data = series[variable]\n",
    "data.plot()"
   ]
  },
  {
   "cell_type": "code",
   "execution_count": 146,
   "id": "bd070bb3-a13b-472f-b03c-58e202d41db8",
   "metadata": {},
   "outputs": [],
   "source": [
    "# Calculate the total number of rows to set as missing\n",
    "total_missing = int(len(data) * 0.05)\n",
    "\n",
    "# Ensure at least one row is set as missing\n",
    "total_missing = max(1, total_missing)\n",
    "\n",
    "# Randomly determine the number of contiguous blocks\n",
    "num_blocks = np.random.randint(1, total_missing//50 + 1)\n",
    "\n",
    "# Calculate the size of each block\n",
    "block_sizes = np.random.choice(range(1, total_missing + 1), num_blocks, replace=False)\n",
    "block_sizes = np.sort(block_sizes)[::-1]\n",
    "\n",
    "# Adjust block sizes to ensure the total number of missing rows is correct\n",
    "block_sizes[-1] = total_missing - sum(block_sizes[:-1])"
   ]
  },
  {
   "cell_type": "code",
   "execution_count": 147,
   "id": "cf9bd421-b942-4516-96be-42a64f4f482f",
   "metadata": {},
   "outputs": [
    {
     "data": {
      "text/plain": [
       "801"
      ]
     },
     "execution_count": 147,
     "metadata": {},
     "output_type": "execute_result"
    }
   ],
   "source": [
    "total_missing"
   ]
  },
  {
   "cell_type": "code",
   "execution_count": 148,
   "id": "7c9c47dd-6116-419e-b093-b8cf218bbcab",
   "metadata": {},
   "outputs": [
    {
     "data": {
      "text/plain": [
       "array([  734,   654,   552,   442,   407,   262,   203,   127,    69,\n",
       "       -2649])"
      ]
     },
     "execution_count": 148,
     "metadata": {},
     "output_type": "execute_result"
    }
   ],
   "source": [
    "block_sizes"
   ]
  },
  {
   "cell_type": "markdown",
   "id": "487d94a8-407d-4138-b1e7-12a98b5ea36c",
   "metadata": {},
   "source": []
  },
  {
   "cell_type": "markdown",
   "id": "c39c4b41-2c12-4db5-b7bf-d11d57c3a075",
   "metadata": {},
   "source": []
  },
  {
   "cell_type": "code",
   "execution_count": 149,
   "id": "23014528-5d3d-4e31-8190-fb5c69e32567",
   "metadata": {},
   "outputs": [
    {
     "name": "stderr",
     "output_type": "stream",
     "text": [
      "/tmp/ipykernel_2677/3498889999.py:7: SettingWithCopyWarning: \n",
      "A value is trying to be set on a copy of a slice from a DataFrame\n",
      "\n",
      "See the caveats in the documentation: https://pandas.pydata.org/pandas-docs/stable/user_guide/indexing.html#returning-a-view-versus-a-copy\n",
      "  data.iloc[start:start + size] = np.nan\n",
      "/tmp/ipykernel_2677/3498889999.py:7: SettingWithCopyWarning: \n",
      "A value is trying to be set on a copy of a slice from a DataFrame\n",
      "\n",
      "See the caveats in the documentation: https://pandas.pydata.org/pandas-docs/stable/user_guide/indexing.html#returning-a-view-versus-a-copy\n",
      "  data.iloc[start:start + size] = np.nan\n",
      "/tmp/ipykernel_2677/3498889999.py:7: SettingWithCopyWarning: \n",
      "A value is trying to be set on a copy of a slice from a DataFrame\n",
      "\n",
      "See the caveats in the documentation: https://pandas.pydata.org/pandas-docs/stable/user_guide/indexing.html#returning-a-view-versus-a-copy\n",
      "  data.iloc[start:start + size] = np.nan\n",
      "/tmp/ipykernel_2677/3498889999.py:7: SettingWithCopyWarning: \n",
      "A value is trying to be set on a copy of a slice from a DataFrame\n",
      "\n",
      "See the caveats in the documentation: https://pandas.pydata.org/pandas-docs/stable/user_guide/indexing.html#returning-a-view-versus-a-copy\n",
      "  data.iloc[start:start + size] = np.nan\n",
      "/tmp/ipykernel_2677/3498889999.py:7: SettingWithCopyWarning: \n",
      "A value is trying to be set on a copy of a slice from a DataFrame\n",
      "\n",
      "See the caveats in the documentation: https://pandas.pydata.org/pandas-docs/stable/user_guide/indexing.html#returning-a-view-versus-a-copy\n",
      "  data.iloc[start:start + size] = np.nan\n",
      "/tmp/ipykernel_2677/3498889999.py:7: SettingWithCopyWarning: \n",
      "A value is trying to be set on a copy of a slice from a DataFrame\n",
      "\n",
      "See the caveats in the documentation: https://pandas.pydata.org/pandas-docs/stable/user_guide/indexing.html#returning-a-view-versus-a-copy\n",
      "  data.iloc[start:start + size] = np.nan\n",
      "/tmp/ipykernel_2677/3498889999.py:7: SettingWithCopyWarning: \n",
      "A value is trying to be set on a copy of a slice from a DataFrame\n",
      "\n",
      "See the caveats in the documentation: https://pandas.pydata.org/pandas-docs/stable/user_guide/indexing.html#returning-a-view-versus-a-copy\n",
      "  data.iloc[start:start + size] = np.nan\n",
      "/tmp/ipykernel_2677/3498889999.py:7: SettingWithCopyWarning: \n",
      "A value is trying to be set on a copy of a slice from a DataFrame\n",
      "\n",
      "See the caveats in the documentation: https://pandas.pydata.org/pandas-docs/stable/user_guide/indexing.html#returning-a-view-versus-a-copy\n",
      "  data.iloc[start:start + size] = np.nan\n",
      "/tmp/ipykernel_2677/3498889999.py:7: SettingWithCopyWarning: \n",
      "A value is trying to be set on a copy of a slice from a DataFrame\n",
      "\n",
      "See the caveats in the documentation: https://pandas.pydata.org/pandas-docs/stable/user_guide/indexing.html#returning-a-view-versus-a-copy\n",
      "  data.iloc[start:start + size] = np.nan\n",
      "/tmp/ipykernel_2677/3498889999.py:7: SettingWithCopyWarning: \n",
      "A value is trying to be set on a copy of a slice from a DataFrame\n",
      "\n",
      "See the caveats in the documentation: https://pandas.pydata.org/pandas-docs/stable/user_guide/indexing.html#returning-a-view-versus-a-copy\n",
      "  data.iloc[start:start + size] = np.nan\n"
     ]
    }
   ],
   "source": [
    "# Randomly select starting indices for each block\n",
    "start_indices = np.random.choice(range(len(data) - total_missing + 1), num_blocks, replace=False)\n",
    "start_indices = np.sort(start_indices)\n",
    "\n",
    "# Set the contiguous blocks of rows as missing (NaN)\n",
    "for start, size in zip(start_indices, block_sizes):\n",
    "    data.iloc[start:start + size] = np.nan"
   ]
  },
  {
   "cell_type": "code",
   "execution_count": 104,
   "id": "a921acbe-fc62-430c-9853-199b015346cd",
   "metadata": {},
   "outputs": [
    {
     "data": {
      "text/plain": [
       "<Axes: xlabel='timestamp_utc'>"
      ]
     },
     "execution_count": 104,
     "metadata": {},
     "output_type": "execute_result"
    },
    {
     "data": {
      "image/png": "[encoded data removed]",
      "text/plain": [
       "<Figure size 640x480 with 1 Axes>"
      ]
     },
     "metadata": {},
     "output_type": "display_data"
    }
   ],
   "source": [
    "data.plot()"
   ]
  },
  {
   "cell_type": "code",
   "execution_count": null,
   "id": "f2e15b93-dd7c-427b-b923-250d0daae1bf",
   "metadata": {},
   "outputs": [],
   "source": []
  }
 ],
 "metadata": {
  "kernelspec": {
   "display_name": "Python 3 (ipykernel)",
   "language": "python",
   "name": "python3"
  },
  "language_info": {
   "codemirror_mode": {
    "name": "ipython",
    "version": 3
   },
   "file_extension": ".py",
   "mimetype": "text/x-python",
   "name": "python",
   "nbconvert_exporter": "python",
   "pygments_lexer": "ipython3",
   "version": "3.12.8"
  }
 },
 "nbformat": 4,
 "nbformat_minor": 5
}
