{
 "cells": [
  {
   "cell_type": "markdown",
   "id": "ddabe01b-2b7a-468b-a92a-42f206aa5e8e",
   "metadata": {},
   "source": [
    "# Dataset Details\n",
    "\n",
    "The multivariate algorithms deployed in these notebooks require that the data contain two (or more) variables.\n",
    "    These variables might be ocean observations recorded at the same location, or may be observations from multiple sites–such as different depths or geographically-adjacent locations. They may be located in the same dataset, or combined from multiple datasets.\n",
    "\n",
    "To run correctly, the following notebooks require that datasets be formatted in a specific configuration–with each row corresponding to a time point (column ‘time’), and each column corresponding to a different variable or site.\n"
   ]
  },
  {
   "cell_type": "markdown",
   "id": "46378ab6-c7bc-4a80-8f4d-358ec7135c41",
   "metadata": {},
   "source": [
    "\n",
    "1)  If the measurement times at multiple sites are slightly different, do you need to resample so they are the same?\n",
    "\n",
    "For example:\n",
    "* Site 1 measures at 15 minutes and 45 minutes past the hour.\n",
    "* Site 2 measures on the hour and at 30 minutes past.\n",
    "\n",
    "Would these need to be aligned (e.g., Site 1 resampled so it is on the hour and at 30 minutes past)? Or can they be used as-is?\n",
    "\n",
    "\n",
    "\n",
    "2) Do the observations need to occur on similar time scales? E.g., could you use a dataset that samples every half hour and one that samples every hour?\n",
    "\n",
    "Or would you need to downsample the half-hour observations (or simply drop every other observation) so they match?\n",
    "\n",
    "3) Are the site locations converted to numbers simply for visual purposes, or is there a programmatic reason?"
   ]
  },
  {
   "cell_type": "markdown",
   "id": "3a47d0d6-df9d-48dd-b193-482952f0141a",
   "metadata": {},
   "source": [
    "The multivariate methods supplied in these notebooks will impute data at \n",
    "Downsampled to daily frequency\n",
    "\n",
    "About the timescale you're trying to resolve. This is a four-year dataset.\n",
    "- Impute seasonal patterns not hour-to-hour or minute-to-minute variability.\n",
    "- Can do more frequent but that will significantly increase the compute time. So there is a practicality about it. Not necessarily going to gain a lot more useful information by using more frequent data.\n",
    "- If wanted to do it in the original time sequencing, would look at a much smaller length of time. If you only have a two-week dataset, more reasonable times to run / more practical.\n",
    "- …extensive compute time,\n",
    "- …from a practical perspective, \n",
    "- Can do whichever frequency is necessary for your analysis\n",
    "\n",
    "…should be collected at regular intervals in order to predict.\n"
   ]
  },
  {
   "cell_type": "code",
   "execution_count": null,
   "id": "bb8b9681-010e-470d-a45f-65d00e979f26",
   "metadata": {},
   "outputs": [],
   "source": []
  }
 ],
 "metadata": {
  "kernelspec": {
   "display_name": "Python 3 (ipykernel)",
   "language": "python",
   "name": "python3"
  },
  "language_info": {
   "codemirror_mode": {
    "name": "ipython",
    "version": 3
   },
   "file_extension": ".py",
   "mimetype": "text/x-python",
   "name": "python",
   "nbconvert_exporter": "python",
   "pygments_lexer": "ipython3",
   "version": "3.13.5"
  }
 },
 "nbformat": 4,
 "nbformat_minor": 5
}
