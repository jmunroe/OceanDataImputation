{
 "cells": [
  {
   "cell_type": "markdown",
   "id": "a9d8208f-a799-4e36-9899-ee82da808269",
   "metadata": {},
   "source": [
    "# Optimize Hyperparameters for Different Methods"
   ]
  },
  {
   "cell_type": "markdown",
   "id": "ab6549d8-f993-46fa-8be6-d7af0e3fe899",
   "metadata": {},
   "source": [
    ":::{warning}\n",
    "This notebook represents historical work to determine optimum hyperparameters. Not currently working.\n",
    ":::"
   ]
  },
  {
   "cell_type": "code",
   "execution_count": 5,
   "id": "ecbd1036-4bd5-4eae-9d61-98c1fb6290b1",
   "metadata": {},
   "outputs": [],
   "source": [
    "import pandas as pd\n",
    "import os\n",
    "import csv\n",
    "import io\n",
    "import numpy as np\n",
    "import matplotlib.pyplot as plt\n",
    "from tqdm.notebook import tqdm\n",
    "import seaborn as sns\n",
    "from matplotlib.dates import DateFormatter\n",
    "\n",
    "import yaml\n",
    "\n",
    "from sklearn.impute import KNNImputer\n",
    "import sklearn.impute\n",
    "from sklearn.ensemble import RandomForestRegressor, RandomForestClassifier\n",
    "\n",
    "from imputeMF import imputeMF\n",
    "\n",
    "from statsmodels.imputation.mice import MICEData"
   ]
  },
  {
   "cell_type": "code",
   "execution_count": null,
   "id": "fdbc766e-7963-4552-9ec5-c545d4c5a550",
   "metadata": {},
   "outputs": [],
   "source": [
    "variable = 'temperature_degrees'\n",
    "df = pd.read_csv('data.csv', parse_dates=True, index_col=0)\n",
    "\n",
    "# Define the cutoff date\n",
    "cutoff_date = \"2020-09-01\"\n",
    "\n",
    "# Select rows past the cutoff date\n",
    "df = df[df.index >=  pd.Timestamp(cutoff_date)]\n",
    "\n",
    "# Define the cutoff date\n",
    "cutoff_date = \"2024-08-31\"\n",
    "\n",
    "# Select rows past the cutoff date\n",
    "df = df[df.index <=  pd.Timestamp(cutoff_date)]\n",
    "\n",
    "# Calculate the percentage of non-missing data for each study site\n",
    "non_missing_percentage = df.notna().mean() * 100\n",
    "\n",
    "# Filter study sites with at least 99% non-missing data\n",
    "selected_sites = non_missing_percentage[non_missing_percentage >= 90].index\n",
    "df_selected = df[selected_sites]\n",
    "\n",
    "df_selected.to_csv('tempdata.csv')\n",
    "\n",
    "df = pd.read_csv('tempdata.csv', parse_dates=True, index_col=0)"
   ]
  },
  {
   "cell_type": "code",
   "execution_count": 54,
   "id": "6e321738-3bce-4a25-b7bf-572a87a30145",
   "metadata": {},
   "outputs": [],
   "source": [
    "from sklearn.impute import KNNImputer\n",
    "imputer = KNNImputer(n_neighbors=19)\n",
    "df_imputed = df.copy()\n",
    "df_imputed[:] = imputer.fit_transform(df)"
   ]
  },
  {
   "cell_type": "code",
   "execution_count": 55,
   "id": "3af416c5-da2d-40d7-bff8-b84b1ebec77c",
   "metadata": {},
   "outputs": [],
   "source": [
    "params = {'n_estimators': 10,\n",
    "          'max_iter' : 10}\n",
    "clf = RandomForestClassifier(n_jobs=-1)\n",
    "rgr = RandomForestRegressor(n_jobs=-1, n_estimators=params['n_estimators'])\n",
    "\n",
    "imputer = MissForest(clf, rgr, verbose=1, max_iter=params['max_iter'])"
   ]
  },
  {
   "cell_type": "code",
   "execution_count": 287,
   "id": "aefa5a3c-f318-4eba-843d-f5b944c8760a",
   "metadata": {},
   "outputs": [
    {
     "name": "stderr",
     "output_type": "stream",
     "text": [
      " 90%|███████████████████████████████████████████████████████████████████████████▌        | 9/10 [01:40<00:11, 11.21s/it]\n",
      "100%|█████████████████████████████████████████████████████████████████████████████████████| 9/9 [00:29<00:00,  3.29s/it]\n"
     ]
    }
   ],
   "source": [
    "#df_imputed = df.copy()\n",
    "df_imputed = imputer.fit_transform(df)"
   ]
  },
  {
   "cell_type": "code",
   "execution_count": 3,
   "id": "08fcc941-286a-4b20-a2ae-b34149a9e747",
   "metadata": {},
   "outputs": [],
   "source": [
    "def run_experiment(method = 'MF', gap_type = 'continuous', q = 7, p = 1, params=None):\n",
    "    \n",
    "    df = pd.read_csv('tempdata.csv', parse_dates=True, index_col=0)\n",
    "    df = df.rename(columns = lambda x: 'S_'+x)\n",
    "    \n",
    "    # Define the cutoff date\n",
    "    cutoff_date = \"2020-09-01\"\n",
    "    \n",
    "    # Select rows past the cutoff date\n",
    "    df = df[df.index >=  pd.Timestamp(cutoff_date)]\n",
    "    \n",
    "    # Define the cutoff date\n",
    "    cutoff_date = \"2024-08-31\"\n",
    "    \n",
    "    # Select rows past the cutoff date\n",
    "    df = df[df.index <=  pd.Timestamp(cutoff_date)]\n",
    "       \n",
    "    # Calculate the percentage of non-missing data for each study site\n",
    "    non_missing_percentage = df.notna().mean() * 100\n",
    "    \n",
    "    # Filter study sites with at least 90% non-missing data\n",
    "    selected_sites = non_missing_percentage[non_missing_percentage >= 90].index\n",
    "    df_selected = df[selected_sites]\n",
    "\n",
    "    # artifical gaps \n",
    "    df = df_selected.copy()\n",
    "\n",
    "    np.random.seed(4152)\n",
    "    \n",
    "    if gap_type == 'continuous':\n",
    "\n",
    "        gaps = {}\n",
    "        # randomly set a n-day contiguous segment as missing for each column\n",
    "        random_columns = np.random.choice(df.columns, size=q, replace=False)\n",
    "\n",
    "        N = len(df.values.flatten())\n",
    "        m = df.isnull().values.flatten().sum()\n",
    "        missing_data = m / N * 100\n",
    "        \n",
    "        #print (f'Initial missing data {missing_data:0.1f}%')\n",
    "        \n",
    "\n",
    "        \n",
    "        for col in random_columns:\n",
    "            # Randomly select the start of the n-day segment\n",
    "            start_idx = np.random.randint(0, len(df) - p)\n",
    "            end_idx = start_idx + p\n",
    "\n",
    "            gaps[col] = [start_idx, end_idx]\n",
    "        \n",
    "            # Set the values in this range to NaN\n",
    "            df.iloc[start_idx:end_idx, df.columns.get_loc(col)] = np.nan\n",
    "\n",
    "        m = df.isnull().values.flatten().sum()\n",
    "        \n",
    "        missing_data = float(m / N * 100)\n",
    "        \n",
    "        #print (f'Final missing data {missing_data:0.1f}%')\n",
    "        \n",
    "        \n",
    "        suffix = f'_{gap_type}_{p}_{q}_{method}'\n",
    "\n",
    "        \n",
    "\n",
    "        with open(f'gaps_{gap_type}_{p}_{q}.yaml', 'w') as file:\n",
    "            yaml.dump({'gaps': gaps, 'p': p, 'q': q, 'missing': missing_data}, file)\n",
    "    elif gap_type == 'random':\n",
    "\n",
    "        # remove randomly selected n days as missing for each column\n",
    "        for col in df.columns:\n",
    "            # Randomly sample unique dates\n",
    "            random_dates = np.random.choice(df.index, size=n, replace=False)\n",
    "            \n",
    "            # Set the values to NaN for those dates\n",
    "            df.loc[random_dates, col] = np.nan\n",
    "            \n",
    "    else:\n",
    "        raise Exception(f'Unknown gap_type {gap_type}')\n",
    "\n",
    "    if 'MF' in method:\n",
    "        # Imputer\n",
    "        #clf = RandomForestClassifier(n_jobs=-1, )\n",
    "        #rgr = RandomForestRegressor(n_jobs=-1, n_estimators=params['n_estimators'])\n",
    "    \n",
    "        #imputer = MissForest(clf, rgr, verbose=1, max_iter=params['max_iter'])\n",
    "        \n",
    "        #imputer = MissForest(**params)\n",
    "        #df_imputed = imputer.fit_transform(df)\n",
    "\n",
    "        df_imputed = df.copy()\n",
    "        \n",
    "        df_imputed[:] = imputeMF(df.values, **params)\n",
    "    \n",
    "    elif method == 'LR':\n",
    "        df_imputed = df.interpolate(method='linear')\n",
    "    elif 'KNN' in method:\n",
    "        imputer = KNNImputer(n_neighbors=params['n_neighbors'])\n",
    "        df_imputed = df.copy()\n",
    "        df_imputed[:] = imputer.fit_transform(df)\n",
    "    elif 'MICE' in method:\n",
    "        mice_data = MICEData(df, k_pmm=7)\n",
    "        mice_data.update_all(params['n_iterations'])\n",
    "        df_imputed = df.copy()\n",
    "        df_imputed[:] = mice_data.data\n",
    "    else:\n",
    "        raise Exception(f'Unknown method {method}')\n",
    "    \n",
    "    suffix = f'_{gap_type}_{p}_{q}_{method}'\n",
    "    \n",
    "    # save output\n",
    "    df_selected.to_csv(f'obs{suffix}.csv')\n",
    "    df_imputed.to_csv(f'sim{suffix}.csv')"
   ]
  },
  {
   "cell_type": "code",
   "execution_count": null,
   "id": "4218bda5-5eab-4101-a0f8-34de994618cb",
   "metadata": {},
   "outputs": [],
   "source": []
  },
  {
   "cell_type": "code",
   "execution_count": 4,
   "id": "4e452307-8fdb-4bb1-8e2a-f7c18cef2e9b",
   "metadata": {},
   "outputs": [],
   "source": [
    "def gof(O, S):\n",
    "        \n",
    "    μo = O.mean()\n",
    "    σo = O.std()\n",
    "    \n",
    "    μs = S.mean()\n",
    "    σs = S.std()\n",
    "    \n",
    "    # bias ratio\n",
    "    β = μs / μo\n",
    "    \n",
    "    # variability ratio\n",
    "    γ = (σs/μs) / (σo/μo)\n",
    "    \n",
    "    ## correlation coefficient\n",
    "    r = O.corrwith(S)\n",
    "    \n",
    "    R2 = ((O - μo) * (S - μs)).sum() / (np.sqrt(((O-μo)**2).sum()) * np.sqrt(((S-μs)**2).sum()))\n",
    "    \n",
    "    PBIAS = (S - O).sum() / O.sum() * 100\n",
    "    \n",
    "    KGE = 1 - np.sqrt((r - 1)**2 + (β - 1)**2 + (γ - 1)**2)\n",
    "\n",
    "    error = O - S\n",
    "    MAE = np.mean(abs(error))\n",
    "    RMSE = np.sqrt(np.mean((error)**2))\n",
    "\n",
    "    return pd.DataFrame({'R2': R2, 'PBIAS': PBIAS, 'KGE': KGE, 'MAE': MAE, 'RMSE': RMSE})"
   ]
  },
  {
   "cell_type": "code",
   "execution_count": 19,
   "id": "307c1601-d578-481a-be09-af2feff41f44",
   "metadata": {},
   "outputs": [
    {
     "data": {
      "application/vnd.jupyter.widget-view+json": {
       "model_id": "a2cd6b96b26c44128eea09ca84c48b06",
       "version_major": 2,
       "version_minor": 0
      },
      "text/plain": [
       "  0%|          | 0/6 [00:00<?, ?it/s]"
      ]
     },
     "metadata": {},
     "output_type": "display_data"
    },
    {
     "data": {
      "application/vnd.jupyter.widget-view+json": {
       "model_id": "e627db1088784f6199451b37f3b5b808",
       "version_major": 2,
       "version_minor": 0
      },
      "text/plain": [
       "  0%|          | 0/6 [00:00<?, ?it/s]"
      ]
     },
     "metadata": {},
     "output_type": "display_data"
    },
    {
     "data": {
      "application/vnd.jupyter.widget-view+json": {
       "model_id": "1057910e990846faac45effc86f8bddd",
       "version_major": 2,
       "version_minor": 0
      },
      "text/plain": [
       "  0%|          | 0/6 [00:00<?, ?it/s]"
      ]
     },
     "metadata": {},
     "output_type": "display_data"
    }
   ],
   "source": [
    "method = 'LR'\n",
    "gap_type = 'continuous'\n",
    "\n",
    "params = {}\n",
    "\n",
    "for q in [6, 12, 24]: # number of sites that have missing data\n",
    "    for p in tqdm([7, 14, 21, 35, 56, 91, ]): # gap length\n",
    "       \n",
    "        run_experiment(gap_type=gap_type, p=p, q=q, method=method, params=params)\n"
   ]
  },
  {
   "cell_type": "code",
   "execution_count": 20,
   "id": "8060c5b9-db88-4e80-9044-538961f8fc5e",
   "metadata": {},
   "outputs": [
    {
     "data": {
      "application/vnd.jupyter.widget-view+json": {
       "model_id": "adbb9e992d5942cd87333048a272d745",
       "version_major": 2,
       "version_minor": 0
      },
      "text/plain": [
       "  0%|          | 0/6 [00:00<?, ?it/s]"
      ]
     },
     "metadata": {},
     "output_type": "display_data"
    },
    {
     "data": {
      "application/vnd.jupyter.widget-view+json": {
       "model_id": "ed1a694e4ad546228cc4540493319319",
       "version_major": 2,
       "version_minor": 0
      },
      "text/plain": [
       "  0%|          | 0/6 [00:00<?, ?it/s]"
      ]
     },
     "metadata": {},
     "output_type": "display_data"
    },
    {
     "data": {
      "application/vnd.jupyter.widget-view+json": {
       "model_id": "bd303ef149c2476f87cddbe7bbbf37a6",
       "version_major": 2,
       "version_minor": 0
      },
      "text/plain": [
       "  0%|          | 0/6 [00:00<?, ?it/s]"
      ]
     },
     "metadata": {},
     "output_type": "display_data"
    }
   ],
   "source": [
    "gap_type = 'continuous'\n",
    "\n",
    "n = 7\n",
    "method = 'KNN'\n",
    "\n",
    "params = {'n_neighbors' : n}\n",
    "\n",
    "for q in [6, 12, 24]: # number of sites that have missing data\n",
    "    for p in tqdm([7, 14, 21, 35, 56, 91, ]): # gap length\n",
    "      \n",
    "        run_experiment(gap_type=gap_type, p=p, q=q, method=method, params=params)\n"
   ]
  },
  {
   "cell_type": "code",
   "execution_count": 21,
   "id": "87c6399d-2072-46ee-bb89-74afe9033cb1",
   "metadata": {},
   "outputs": [
    {
     "data": {
      "application/vnd.jupyter.widget-view+json": {
       "model_id": "d4bb93298e2a405a8c3737e503f5306c",
       "version_major": 2,
       "version_minor": 0
      },
      "text/plain": [
       "  0%|          | 0/6 [00:00<?, ?it/s]"
      ]
     },
     "metadata": {},
     "output_type": "display_data"
    },
    {
     "data": {
      "application/vnd.jupyter.widget-view+json": {
       "model_id": "de1dddf82d9b4831ae744870627e0f53",
       "version_major": 2,
       "version_minor": 0
      },
      "text/plain": [
       "  0%|          | 0/6 [00:00<?, ?it/s]"
      ]
     },
     "metadata": {},
     "output_type": "display_data"
    },
    {
     "data": {
      "application/vnd.jupyter.widget-view+json": {
       "model_id": "f4483f48a7fc4d3cb19a50a13191a787",
       "version_major": 2,
       "version_minor": 0
      },
      "text/plain": [
       "  0%|          | 0/6 [00:00<?, ?it/s]"
      ]
     },
     "metadata": {},
     "output_type": "display_data"
    }
   ],
   "source": [
    "gap_type = 'continuous'\n",
    "\n",
    "n = 3\n",
    "method = 'MICE'\n",
    "\n",
    "params = { 'n_iterations': n }\n",
    "\n",
    "for q in [6, 12, 24]: # number of sites that have missing data\n",
    "    for p in tqdm([7, 14, 21, 35, 56, 91, ]): # gap length\n",
    "      \n",
    "        run_experiment(gap_type=gap_type, p=p, q=q, method=method, params=params)\n"
   ]
  },
  {
   "cell_type": "code",
   "execution_count": 8,
   "id": "aaaf2f5e-66c2-4e33-8573-a811b5e41520",
   "metadata": {},
   "outputs": [
    {
     "data": {
      "application/vnd.jupyter.widget-view+json": {
       "model_id": "59bd2615cf5a425c8dd63901f92183b3",
       "version_major": 2,
       "version_minor": 0
      },
      "text/plain": [
       "  0%|          | 0/6 [00:00<?, ?it/s]"
      ]
     },
     "metadata": {},
     "output_type": "display_data"
    },
    {
     "data": {
      "application/vnd.jupyter.widget-view+json": {
       "model_id": "0069681e2c664eb3aa5d295298ebbf12",
       "version_major": 2,
       "version_minor": 0
      },
      "text/plain": [
       "  0%|          | 0/61 [00:00<?, ?it/s]"
      ]
     },
     "metadata": {},
     "output_type": "display_data"
    },
    {
     "name": "stdout",
     "output_type": "stream",
     "text": [
      "Statistics:\n",
      "iteration 1, gamma = 0.007265639368261343\n"
     ]
    },
    {
     "data": {
      "application/vnd.jupyter.widget-view+json": {
       "model_id": "190bcdbc94f74376b8e4f2cceb856b5a",
       "version_major": 2,
       "version_minor": 0
      },
      "text/plain": [
       "  0%|          | 0/61 [00:00<?, ?it/s]"
      ]
     },
     "metadata": {},
     "output_type": "display_data"
    },
    {
     "name": "stdout",
     "output_type": "stream",
     "text": [
      "Statistics:\n",
      "iteration 2, gamma = 0.00033356215403636973\n"
     ]
    },
    {
     "data": {
      "application/vnd.jupyter.widget-view+json": {
       "model_id": "a5f39fb666dc45f1a251c2bcb8fac8a4",
       "version_major": 2,
       "version_minor": 0
      },
      "text/plain": [
       "  0%|          | 0/61 [00:00<?, ?it/s]"
      ]
     },
     "metadata": {},
     "output_type": "display_data"
    },
    {
     "name": "stdout",
     "output_type": "stream",
     "text": [
      "Statistics:\n",
      "iteration 3, gamma = 2.976846243540734e-05\n"
     ]
    },
    {
     "data": {
      "application/vnd.jupyter.widget-view+json": {
       "model_id": "d7e152b9b71e4055a23965b7013d154e",
       "version_major": 2,
       "version_minor": 0
      },
      "text/plain": [
       "  0%|          | 0/61 [00:00<?, ?it/s]"
      ]
     },
     "metadata": {},
     "output_type": "display_data"
    },
    {
     "name": "stdout",
     "output_type": "stream",
     "text": [
      "Statistics:\n",
      "iteration 1, gamma = 0.007435846263338358\n"
     ]
    },
    {
     "data": {
      "application/vnd.jupyter.widget-view+json": {
       "model_id": "9290b0c68b5b4a3c94722814a1357fa4",
       "version_major": 2,
       "version_minor": 0
      },
      "text/plain": [
       "  0%|          | 0/61 [00:00<?, ?it/s]"
      ]
     },
     "metadata": {},
     "output_type": "display_data"
    },
    {
     "name": "stdout",
     "output_type": "stream",
     "text": [
      "Statistics:\n",
      "iteration 2, gamma = 0.00033128297905347985\n"
     ]
    },
    {
     "data": {
      "application/vnd.jupyter.widget-view+json": {
       "model_id": "bcf6bf7d77834ac6b74aa64b832a1748",
       "version_major": 2,
       "version_minor": 0
      },
      "text/plain": [
       "  0%|          | 0/61 [00:00<?, ?it/s]"
      ]
     },
     "metadata": {},
     "output_type": "display_data"
    },
    {
     "name": "stdout",
     "output_type": "stream",
     "text": [
      "Statistics:\n",
      "iteration 3, gamma = 3.0355733888141653e-05\n"
     ]
    },
    {
     "data": {
      "application/vnd.jupyter.widget-view+json": {
       "model_id": "2f6e1b717700479b98e03503a4872a2f",
       "version_major": 2,
       "version_minor": 0
      },
      "text/plain": [
       "  0%|          | 0/61 [00:00<?, ?it/s]"
      ]
     },
     "metadata": {},
     "output_type": "display_data"
    },
    {
     "name": "stdout",
     "output_type": "stream",
     "text": [
      "Statistics:\n",
      "iteration 1, gamma = 0.007539607233936877\n"
     ]
    },
    {
     "data": {
      "application/vnd.jupyter.widget-view+json": {
       "model_id": "64b3c324168949f4979d7acb79cfd4d4",
       "version_major": 2,
       "version_minor": 0
      },
      "text/plain": [
       "  0%|          | 0/61 [00:00<?, ?it/s]"
      ]
     },
     "metadata": {},
     "output_type": "display_data"
    },
    {
     "name": "stdout",
     "output_type": "stream",
     "text": [
      "Statistics:\n",
      "iteration 2, gamma = 0.00037892233250369435\n"
     ]
    },
    {
     "data": {
      "application/vnd.jupyter.widget-view+json": {
       "model_id": "703696136b1a4e52b2f850036432a8e0",
       "version_major": 2,
       "version_minor": 0
      },
      "text/plain": [
       "  0%|          | 0/61 [00:00<?, ?it/s]"
      ]
     },
     "metadata": {},
     "output_type": "display_data"
    },
    {
     "name": "stdout",
     "output_type": "stream",
     "text": [
      "Statistics:\n",
      "iteration 3, gamma = 4.2214002121038445e-05\n"
     ]
    },
    {
     "data": {
      "application/vnd.jupyter.widget-view+json": {
       "model_id": "75546b7194f444a8b462085e1066b430",
       "version_major": 2,
       "version_minor": 0
      },
      "text/plain": [
       "  0%|          | 0/61 [00:00<?, ?it/s]"
      ]
     },
     "metadata": {},
     "output_type": "display_data"
    },
    {
     "name": "stdout",
     "output_type": "stream",
     "text": [
      "Statistics:\n",
      "iteration 1, gamma = 0.007871925073221478\n"
     ]
    },
    {
     "data": {
      "application/vnd.jupyter.widget-view+json": {
       "model_id": "b58852fe7bb9496b8f8d6b9600f611d5",
       "version_major": 2,
       "version_minor": 0
      },
      "text/plain": [
       "  0%|          | 0/61 [00:00<?, ?it/s]"
      ]
     },
     "metadata": {},
     "output_type": "display_data"
    },
    {
     "name": "stdout",
     "output_type": "stream",
     "text": [
      "Statistics:\n",
      "iteration 2, gamma = 0.00036760524261885753\n"
     ]
    },
    {
     "data": {
      "application/vnd.jupyter.widget-view+json": {
       "model_id": "b43a23391b834c85981dc4987b6707ff",
       "version_major": 2,
       "version_minor": 0
      },
      "text/plain": [
       "  0%|          | 0/61 [00:00<?, ?it/s]"
      ]
     },
     "metadata": {},
     "output_type": "display_data"
    },
    {
     "name": "stdout",
     "output_type": "stream",
     "text": [
      "Statistics:\n",
      "iteration 3, gamma = 4.5144062434654946e-05\n"
     ]
    },
    {
     "data": {
      "application/vnd.jupyter.widget-view+json": {
       "model_id": "b1746af080cf43bb8fecb3cb37b35a1f",
       "version_major": 2,
       "version_minor": 0
      },
      "text/plain": [
       "  0%|          | 0/61 [00:00<?, ?it/s]"
      ]
     },
     "metadata": {},
     "output_type": "display_data"
    },
    {
     "name": "stdout",
     "output_type": "stream",
     "text": [
      "Statistics:\n",
      "iteration 1, gamma = 0.008709469351108225\n"
     ]
    },
    {
     "data": {
      "application/vnd.jupyter.widget-view+json": {
       "model_id": "970cdc4499f146ed981b7d53bd2d8c7a",
       "version_major": 2,
       "version_minor": 0
      },
      "text/plain": [
       "  0%|          | 0/61 [00:00<?, ?it/s]"
      ]
     },
     "metadata": {},
     "output_type": "display_data"
    },
    {
     "name": "stdout",
     "output_type": "stream",
     "text": [
      "Statistics:\n",
      "iteration 2, gamma = 0.00038857727335693776\n"
     ]
    },
    {
     "data": {
      "application/vnd.jupyter.widget-view+json": {
       "model_id": "6af319130d87455eabad54f05741aeeb",
       "version_major": 2,
       "version_minor": 0
      },
      "text/plain": [
       "  0%|          | 0/61 [00:00<?, ?it/s]"
      ]
     },
     "metadata": {},
     "output_type": "display_data"
    },
    {
     "name": "stdout",
     "output_type": "stream",
     "text": [
      "Statistics:\n",
      "iteration 3, gamma = 3.6457746170693545e-05\n"
     ]
    },
    {
     "data": {
      "application/vnd.jupyter.widget-view+json": {
       "model_id": "d50a245c92184176a07ea8e7a46178c6",
       "version_major": 2,
       "version_minor": 0
      },
      "text/plain": [
       "  0%|          | 0/61 [00:00<?, ?it/s]"
      ]
     },
     "metadata": {},
     "output_type": "display_data"
    },
    {
     "name": "stdout",
     "output_type": "stream",
     "text": [
      "Statistics:\n",
      "iteration 1, gamma = 0.010754481325446145\n"
     ]
    },
    {
     "data": {
      "application/vnd.jupyter.widget-view+json": {
       "model_id": "73530228205c4f1ebc1657b3674de21a",
       "version_major": 2,
       "version_minor": 0
      },
      "text/plain": [
       "  0%|          | 0/61 [00:00<?, ?it/s]"
      ]
     },
     "metadata": {},
     "output_type": "display_data"
    },
    {
     "name": "stdout",
     "output_type": "stream",
     "text": [
      "Statistics:\n",
      "iteration 2, gamma = 0.0003692176550271812\n"
     ]
    },
    {
     "data": {
      "application/vnd.jupyter.widget-view+json": {
       "model_id": "1fe6c372a35c4bf9b8096baab43c0625",
       "version_major": 2,
       "version_minor": 0
      },
      "text/plain": [
       "  0%|          | 0/61 [00:00<?, ?it/s]"
      ]
     },
     "metadata": {},
     "output_type": "display_data"
    },
    {
     "name": "stdout",
     "output_type": "stream",
     "text": [
      "Statistics:\n",
      "iteration 3, gamma = 3.054242093516546e-05\n"
     ]
    },
    {
     "data": {
      "application/vnd.jupyter.widget-view+json": {
       "model_id": "22932a4609fe4de98008d265b9194079",
       "version_major": 2,
       "version_minor": 0
      },
      "text/plain": [
       "  0%|          | 0/6 [00:00<?, ?it/s]"
      ]
     },
     "metadata": {},
     "output_type": "display_data"
    },
    {
     "data": {
      "application/vnd.jupyter.widget-view+json": {
       "model_id": "c410df79f31f4f9394c002c655c156d2",
       "version_major": 2,
       "version_minor": 0
      },
      "text/plain": [
       "  0%|          | 0/61 [00:00<?, ?it/s]"
      ]
     },
     "metadata": {},
     "output_type": "display_data"
    },
    {
     "name": "stdout",
     "output_type": "stream",
     "text": [
      "Statistics:\n",
      "iteration 1, gamma = 0.00725928182829595\n"
     ]
    },
    {
     "data": {
      "application/vnd.jupyter.widget-view+json": {
       "model_id": "24c32cef9cc74cf6a122fed5b7455bae",
       "version_major": 2,
       "version_minor": 0
      },
      "text/plain": [
       "  0%|          | 0/61 [00:00<?, ?it/s]"
      ]
     },
     "metadata": {},
     "output_type": "display_data"
    },
    {
     "name": "stdout",
     "output_type": "stream",
     "text": [
      "Statistics:\n",
      "iteration 2, gamma = 0.0004016355589673435\n"
     ]
    },
    {
     "data": {
      "application/vnd.jupyter.widget-view+json": {
       "model_id": "5dfa907102f943cabf26f24d910495d5",
       "version_major": 2,
       "version_minor": 0
      },
      "text/plain": [
       "  0%|          | 0/61 [00:00<?, ?it/s]"
      ]
     },
     "metadata": {},
     "output_type": "display_data"
    },
    {
     "name": "stdout",
     "output_type": "stream",
     "text": [
      "Statistics:\n",
      "iteration 3, gamma = 3.305475664129357e-05\n"
     ]
    },
    {
     "data": {
      "application/vnd.jupyter.widget-view+json": {
       "model_id": "59b82891b3fa4198a8f232ca36da737c",
       "version_major": 2,
       "version_minor": 0
      },
      "text/plain": [
       "  0%|          | 0/61 [00:00<?, ?it/s]"
      ]
     },
     "metadata": {},
     "output_type": "display_data"
    },
    {
     "name": "stdout",
     "output_type": "stream",
     "text": [
      "Statistics:\n",
      "iteration 1, gamma = 0.007478839077429857\n"
     ]
    },
    {
     "data": {
      "application/vnd.jupyter.widget-view+json": {
       "model_id": "6d862080f9484598b06d1000ef719e6c",
       "version_major": 2,
       "version_minor": 0
      },
      "text/plain": [
       "  0%|          | 0/61 [00:00<?, ?it/s]"
      ]
     },
     "metadata": {},
     "output_type": "display_data"
    },
    {
     "name": "stdout",
     "output_type": "stream",
     "text": [
      "Statistics:\n",
      "iteration 2, gamma = 0.0004034272329792631\n"
     ]
    },
    {
     "data": {
      "application/vnd.jupyter.widget-view+json": {
       "model_id": "8456616e127040928f0623e3f41dee52",
       "version_major": 2,
       "version_minor": 0
      },
      "text/plain": [
       "  0%|          | 0/61 [00:00<?, ?it/s]"
      ]
     },
     "metadata": {},
     "output_type": "display_data"
    },
    {
     "name": "stdout",
     "output_type": "stream",
     "text": [
      "Statistics:\n",
      "iteration 3, gamma = 3.7441466514754774e-05\n"
     ]
    },
    {
     "data": {
      "application/vnd.jupyter.widget-view+json": {
       "model_id": "b470f4da3ac74dbfb2b1559fcd37fb79",
       "version_major": 2,
       "version_minor": 0
      },
      "text/plain": [
       "  0%|          | 0/61 [00:00<?, ?it/s]"
      ]
     },
     "metadata": {},
     "output_type": "display_data"
    },
    {
     "name": "stdout",
     "output_type": "stream",
     "text": [
      "Statistics:\n",
      "iteration 1, gamma = 0.007744126167924074\n"
     ]
    },
    {
     "data": {
      "application/vnd.jupyter.widget-view+json": {
       "model_id": "3be08c4a2ed940578ae053d1fa0ed75a",
       "version_major": 2,
       "version_minor": 0
      },
      "text/plain": [
       "  0%|          | 0/61 [00:00<?, ?it/s]"
      ]
     },
     "metadata": {},
     "output_type": "display_data"
    },
    {
     "name": "stdout",
     "output_type": "stream",
     "text": [
      "Statistics:\n",
      "iteration 2, gamma = 0.00040826163848170944\n"
     ]
    },
    {
     "data": {
      "application/vnd.jupyter.widget-view+json": {
       "model_id": "68851c071c5c4057b8fe500a54fc31dd",
       "version_major": 2,
       "version_minor": 0
      },
      "text/plain": [
       "  0%|          | 0/61 [00:00<?, ?it/s]"
      ]
     },
     "metadata": {},
     "output_type": "display_data"
    },
    {
     "name": "stdout",
     "output_type": "stream",
     "text": [
      "Statistics:\n",
      "iteration 3, gamma = 3.5147320978921116e-05\n"
     ]
    },
    {
     "data": {
      "application/vnd.jupyter.widget-view+json": {
       "model_id": "652fbc3b51d94baf8589e801c565bda1",
       "version_major": 2,
       "version_minor": 0
      },
      "text/plain": [
       "  0%|          | 0/61 [00:00<?, ?it/s]"
      ]
     },
     "metadata": {},
     "output_type": "display_data"
    },
    {
     "name": "stdout",
     "output_type": "stream",
     "text": [
      "Statistics:\n",
      "iteration 1, gamma = 0.008321114879107765\n"
     ]
    },
    {
     "data": {
      "application/vnd.jupyter.widget-view+json": {
       "model_id": "15efbec804054b5493a0df82508fd97c",
       "version_major": 2,
       "version_minor": 0
      },
      "text/plain": [
       "  0%|          | 0/61 [00:00<?, ?it/s]"
      ]
     },
     "metadata": {},
     "output_type": "display_data"
    },
    {
     "name": "stdout",
     "output_type": "stream",
     "text": [
      "Statistics:\n",
      "iteration 2, gamma = 0.0004061879270845847\n"
     ]
    },
    {
     "data": {
      "application/vnd.jupyter.widget-view+json": {
       "model_id": "42bb7b3a745f44dd89d004d0f2160f73",
       "version_major": 2,
       "version_minor": 0
      },
      "text/plain": [
       "  0%|          | 0/61 [00:00<?, ?it/s]"
      ]
     },
     "metadata": {},
     "output_type": "display_data"
    },
    {
     "name": "stdout",
     "output_type": "stream",
     "text": [
      "Statistics:\n",
      "iteration 3, gamma = 5.2487705428756676e-05\n"
     ]
    },
    {
     "data": {
      "application/vnd.jupyter.widget-view+json": {
       "model_id": "8d8ed304ebba49b683a4eb8b20583570",
       "version_major": 2,
       "version_minor": 0
      },
      "text/plain": [
       "  0%|          | 0/61 [00:00<?, ?it/s]"
      ]
     },
     "metadata": {},
     "output_type": "display_data"
    },
    {
     "name": "stdout",
     "output_type": "stream",
     "text": [
      "Statistics:\n",
      "iteration 1, gamma = 0.009628133575383615\n"
     ]
    },
    {
     "data": {
      "application/vnd.jupyter.widget-view+json": {
       "model_id": "5bd1b78a4c5d41d2903cc079951c0dec",
       "version_major": 2,
       "version_minor": 0
      },
      "text/plain": [
       "  0%|          | 0/61 [00:00<?, ?it/s]"
      ]
     },
     "metadata": {},
     "output_type": "display_data"
    },
    {
     "name": "stdout",
     "output_type": "stream",
     "text": [
      "Statistics:\n",
      "iteration 2, gamma = 0.00035102782697146625\n"
     ]
    },
    {
     "data": {
      "application/vnd.jupyter.widget-view+json": {
       "model_id": "bbd06c2a7e0e4510b6f312936f573d74",
       "version_major": 2,
       "version_minor": 0
      },
      "text/plain": [
       "  0%|          | 0/61 [00:00<?, ?it/s]"
      ]
     },
     "metadata": {},
     "output_type": "display_data"
    },
    {
     "name": "stdout",
     "output_type": "stream",
     "text": [
      "Statistics:\n",
      "iteration 3, gamma = 9.199367397956171e-05\n"
     ]
    },
    {
     "data": {
      "application/vnd.jupyter.widget-view+json": {
       "model_id": "15554dbbafbd43ef86677f72dbdfbeee",
       "version_major": 2,
       "version_minor": 0
      },
      "text/plain": [
       "  0%|          | 0/61 [00:00<?, ?it/s]"
      ]
     },
     "metadata": {},
     "output_type": "display_data"
    },
    {
     "name": "stdout",
     "output_type": "stream",
     "text": [
      "Statistics:\n",
      "iteration 1, gamma = 0.01268052456526088\n"
     ]
    },
    {
     "data": {
      "application/vnd.jupyter.widget-view+json": {
       "model_id": "acc815b1dff242d0a876c20662552329",
       "version_major": 2,
       "version_minor": 0
      },
      "text/plain": [
       "  0%|          | 0/61 [00:00<?, ?it/s]"
      ]
     },
     "metadata": {},
     "output_type": "display_data"
    },
    {
     "name": "stdout",
     "output_type": "stream",
     "text": [
      "Statistics:\n",
      "iteration 2, gamma = 0.00035537272988858567\n"
     ]
    },
    {
     "data": {
      "application/vnd.jupyter.widget-view+json": {
       "model_id": "3d13230f7dbc4036a2e96264839f730d",
       "version_major": 2,
       "version_minor": 0
      },
      "text/plain": [
       "  0%|          | 0/61 [00:00<?, ?it/s]"
      ]
     },
     "metadata": {},
     "output_type": "display_data"
    },
    {
     "name": "stdout",
     "output_type": "stream",
     "text": [
      "Statistics:\n",
      "iteration 3, gamma = 3.815225633512448e-05\n"
     ]
    },
    {
     "data": {
      "application/vnd.jupyter.widget-view+json": {
       "model_id": "9063c711df8b4e69950f0a47e53f8d67",
       "version_major": 2,
       "version_minor": 0
      },
      "text/plain": [
       "  0%|          | 0/6 [00:00<?, ?it/s]"
      ]
     },
     "metadata": {},
     "output_type": "display_data"
    },
    {
     "data": {
      "application/vnd.jupyter.widget-view+json": {
       "model_id": "de7e8b0293554a42847fc8941f8fed9e",
       "version_major": 2,
       "version_minor": 0
      },
      "text/plain": [
       "  0%|          | 0/61 [00:00<?, ?it/s]"
      ]
     },
     "metadata": {},
     "output_type": "display_data"
    },
    {
     "name": "stdout",
     "output_type": "stream",
     "text": [
      "Statistics:\n",
      "iteration 1, gamma = 0.00788160258235963\n"
     ]
    },
    {
     "data": {
      "application/vnd.jupyter.widget-view+json": {
       "model_id": "cdfc9caed9f14ca9a7f7e8e6594c0594",
       "version_major": 2,
       "version_minor": 0
      },
      "text/plain": [
       "  0%|          | 0/61 [00:00<?, ?it/s]"
      ]
     },
     "metadata": {},
     "output_type": "display_data"
    },
    {
     "name": "stdout",
     "output_type": "stream",
     "text": [
      "Statistics:\n",
      "iteration 2, gamma = 0.0002391118066601929\n"
     ]
    },
    {
     "data": {
      "application/vnd.jupyter.widget-view+json": {
       "model_id": "99559372150146bb8f914f5bd14bee28",
       "version_major": 2,
       "version_minor": 0
      },
      "text/plain": [
       "  0%|          | 0/61 [00:00<?, ?it/s]"
      ]
     },
     "metadata": {},
     "output_type": "display_data"
    },
    {
     "name": "stdout",
     "output_type": "stream",
     "text": [
      "Statistics:\n",
      "iteration 3, gamma = 1.7469068219348625e-05\n"
     ]
    },
    {
     "data": {
      "application/vnd.jupyter.widget-view+json": {
       "model_id": "75bc6fbd3fc24331b3b21cb15040e091",
       "version_major": 2,
       "version_minor": 0
      },
      "text/plain": [
       "  0%|          | 0/61 [00:00<?, ?it/s]"
      ]
     },
     "metadata": {},
     "output_type": "display_data"
    },
    {
     "name": "stdout",
     "output_type": "stream",
     "text": [
      "Statistics:\n",
      "iteration 1, gamma = 0.008632069692808594\n"
     ]
    },
    {
     "data": {
      "application/vnd.jupyter.widget-view+json": {
       "model_id": "6177f700c9994d248d41a22662a49b17",
       "version_major": 2,
       "version_minor": 0
      },
      "text/plain": [
       "  0%|          | 0/61 [00:00<?, ?it/s]"
      ]
     },
     "metadata": {},
     "output_type": "display_data"
    },
    {
     "name": "stdout",
     "output_type": "stream",
     "text": [
      "Statistics:\n",
      "iteration 2, gamma = 0.0002360728302371468\n"
     ]
    },
    {
     "data": {
      "application/vnd.jupyter.widget-view+json": {
       "model_id": "6751ee0a3b1043bcbbfaac287ffcd3cc",
       "version_major": 2,
       "version_minor": 0
      },
      "text/plain": [
       "  0%|          | 0/61 [00:00<?, ?it/s]"
      ]
     },
     "metadata": {},
     "output_type": "display_data"
    },
    {
     "name": "stdout",
     "output_type": "stream",
     "text": [
      "Statistics:\n",
      "iteration 3, gamma = 1.4014391202506494e-05\n"
     ]
    },
    {
     "data": {
      "application/vnd.jupyter.widget-view+json": {
       "model_id": "4e19d5b0f4fe42678dd369f7e83f274b",
       "version_major": 2,
       "version_minor": 0
      },
      "text/plain": [
       "  0%|          | 0/61 [00:00<?, ?it/s]"
      ]
     },
     "metadata": {},
     "output_type": "display_data"
    },
    {
     "name": "stdout",
     "output_type": "stream",
     "text": [
      "Statistics:\n",
      "iteration 1, gamma = 0.009286370474044263\n"
     ]
    },
    {
     "data": {
      "application/vnd.jupyter.widget-view+json": {
       "model_id": "43b725c2b5464f6dbc166e5663c40b47",
       "version_major": 2,
       "version_minor": 0
      },
      "text/plain": [
       "  0%|          | 0/61 [00:00<?, ?it/s]"
      ]
     },
     "metadata": {},
     "output_type": "display_data"
    },
    {
     "name": "stdout",
     "output_type": "stream",
     "text": [
      "Statistics:\n",
      "iteration 2, gamma = 0.00022652274503772273\n"
     ]
    },
    {
     "data": {
      "application/vnd.jupyter.widget-view+json": {
       "model_id": "8c7731d74b2144faa84dde5c7b7e9363",
       "version_major": 2,
       "version_minor": 0
      },
      "text/plain": [
       "  0%|          | 0/61 [00:00<?, ?it/s]"
      ]
     },
     "metadata": {},
     "output_type": "display_data"
    },
    {
     "name": "stdout",
     "output_type": "stream",
     "text": [
      "Statistics:\n",
      "iteration 3, gamma = 1.4373109165253317e-05\n"
     ]
    },
    {
     "data": {
      "application/vnd.jupyter.widget-view+json": {
       "model_id": "6c35e4a0557148cea830d75d0d0b54bd",
       "version_major": 2,
       "version_minor": 0
      },
      "text/plain": [
       "  0%|          | 0/61 [00:00<?, ?it/s]"
      ]
     },
     "metadata": {},
     "output_type": "display_data"
    },
    {
     "name": "stdout",
     "output_type": "stream",
     "text": [
      "Statistics:\n",
      "iteration 1, gamma = 0.01040629305295171\n"
     ]
    },
    {
     "data": {
      "application/vnd.jupyter.widget-view+json": {
       "model_id": "53f3ae0837394c7c9c80bb809aed9e8b",
       "version_major": 2,
       "version_minor": 0
      },
      "text/plain": [
       "  0%|          | 0/61 [00:00<?, ?it/s]"
      ]
     },
     "metadata": {},
     "output_type": "display_data"
    },
    {
     "name": "stdout",
     "output_type": "stream",
     "text": [
      "Statistics:\n",
      "iteration 2, gamma = 0.00026753397479221036\n"
     ]
    },
    {
     "data": {
      "application/vnd.jupyter.widget-view+json": {
       "model_id": "6bf5be624e344f5ea7669244b1e776de",
       "version_major": 2,
       "version_minor": 0
      },
      "text/plain": [
       "  0%|          | 0/61 [00:00<?, ?it/s]"
      ]
     },
     "metadata": {},
     "output_type": "display_data"
    },
    {
     "name": "stdout",
     "output_type": "stream",
     "text": [
      "Statistics:\n",
      "iteration 3, gamma = 3.136266088021685e-05\n"
     ]
    },
    {
     "data": {
      "application/vnd.jupyter.widget-view+json": {
       "model_id": "318391b9de9c4c368a063bb73fbac4fc",
       "version_major": 2,
       "version_minor": 0
      },
      "text/plain": [
       "  0%|          | 0/61 [00:00<?, ?it/s]"
      ]
     },
     "metadata": {},
     "output_type": "display_data"
    },
    {
     "name": "stdout",
     "output_type": "stream",
     "text": [
      "Statistics:\n",
      "iteration 1, gamma = 0.012440441750857715\n"
     ]
    },
    {
     "data": {
      "application/vnd.jupyter.widget-view+json": {
       "model_id": "58b456512e7c4e5593070f200dea606e",
       "version_major": 2,
       "version_minor": 0
      },
      "text/plain": [
       "  0%|          | 0/61 [00:00<?, ?it/s]"
      ]
     },
     "metadata": {},
     "output_type": "display_data"
    },
    {
     "name": "stdout",
     "output_type": "stream",
     "text": [
      "Statistics:\n",
      "iteration 2, gamma = 0.0003019131506739379\n"
     ]
    },
    {
     "data": {
      "application/vnd.jupyter.widget-view+json": {
       "model_id": "bf88d0d9c4ec40eabc0c8c9af7a04661",
       "version_major": 2,
       "version_minor": 0
      },
      "text/plain": [
       "  0%|          | 0/61 [00:00<?, ?it/s]"
      ]
     },
     "metadata": {},
     "output_type": "display_data"
    },
    {
     "name": "stdout",
     "output_type": "stream",
     "text": [
      "Statistics:\n",
      "iteration 3, gamma = 4.2363005942488717e-05\n"
     ]
    },
    {
     "data": {
      "application/vnd.jupyter.widget-view+json": {
       "model_id": "9ae5ee44b0b141cfbbe8536467966287",
       "version_major": 2,
       "version_minor": 0
      },
      "text/plain": [
       "  0%|          | 0/61 [00:00<?, ?it/s]"
      ]
     },
     "metadata": {},
     "output_type": "display_data"
    },
    {
     "name": "stdout",
     "output_type": "stream",
     "text": [
      "Statistics:\n",
      "iteration 1, gamma = 0.01665572459531135\n"
     ]
    },
    {
     "data": {
      "application/vnd.jupyter.widget-view+json": {
       "model_id": "7ae44e054d8541d9975db54ba2174e7b",
       "version_major": 2,
       "version_minor": 0
      },
      "text/plain": [
       "  0%|          | 0/61 [00:00<?, ?it/s]"
      ]
     },
     "metadata": {},
     "output_type": "display_data"
    },
    {
     "name": "stdout",
     "output_type": "stream",
     "text": [
      "Statistics:\n",
      "iteration 2, gamma = 0.0002073187071946193\n"
     ]
    },
    {
     "data": {
      "application/vnd.jupyter.widget-view+json": {
       "model_id": "31487f4e72ca417e8079e951e1736618",
       "version_major": 2,
       "version_minor": 0
      },
      "text/plain": [
       "  0%|          | 0/61 [00:00<?, ?it/s]"
      ]
     },
     "metadata": {},
     "output_type": "display_data"
    },
    {
     "name": "stdout",
     "output_type": "stream",
     "text": [
      "Statistics:\n",
      "iteration 3, gamma = 1.9885867551857983e-05\n"
     ]
    }
   ],
   "source": [
    "gap_type = 'continuous'\n",
    "\n",
    "\n",
    "method = 'MF'\n",
    "\n",
    "#params = { 'n_iterations': n }\n",
    "params =  { 'max_iter' : 3}\n",
    "\n",
    "for q in [6, 12, 24]: # number of sites that have missing data\n",
    "    for p in tqdm([7, 14, 21, 35, 56, 91, ]): # gap length\n",
    "      \n",
    "        run_experiment(gap_type=gap_type, p=p, q=q, method=method, params=params)\n"
   ]
  },
  {
   "cell_type": "code",
   "execution_count": 9,
   "id": "118316ae-c5d1-4b78-9510-44c841c8283e",
   "metadata": {},
   "outputs": [],
   "source": [
    "method = 'KNN'\n",
    "gap_type = 'continuous'\n",
    "p = 91\n",
    "q = 24\n",
    "\n",
    "suffix = f'_{gap_type}_{p}_{q}_{method}'\n",
    "S = pd.read_csv(f'sim{suffix}.csv', parse_dates=True, index_col=0)\n",
    "O = pd.read_csv(f'obs{suffix}.csv', parse_dates=True, index_col=0)\n",
    "\n",
    "results = gof(S, O)"
   ]
  },
  {
   "cell_type": "code",
   "execution_count": 10,
   "id": "7bce474c-0415-474b-ba61-9b70cf9afd01",
   "metadata": {},
   "outputs": [
    {
     "ename": "KeyError",
     "evalue": "'57'",
     "output_type": "error",
     "traceback": [
      "\u001b[0;31m---------------------------------------------------------------------------\u001b[0m",
      "\u001b[0;31mKeyError\u001b[0m                                  Traceback (most recent call last)",
      "File \u001b[0;32m~/miniforge3/lib/python3.12/site-packages/pandas/core/indexes/base.py:3805\u001b[0m, in \u001b[0;36mIndex.get_loc\u001b[0;34m(self, key)\u001b[0m\n\u001b[1;32m   3804\u001b[0m \u001b[38;5;28;01mtry\u001b[39;00m:\n\u001b[0;32m-> 3805\u001b[0m     \u001b[38;5;28;01mreturn\u001b[39;00m \u001b[38;5;28;43mself\u001b[39;49m\u001b[38;5;241;43m.\u001b[39;49m\u001b[43m_engine\u001b[49m\u001b[38;5;241;43m.\u001b[39;49m\u001b[43mget_loc\u001b[49m\u001b[43m(\u001b[49m\u001b[43mcasted_key\u001b[49m\u001b[43m)\u001b[49m\n\u001b[1;32m   3806\u001b[0m \u001b[38;5;28;01mexcept\u001b[39;00m \u001b[38;5;167;01mKeyError\u001b[39;00m \u001b[38;5;28;01mas\u001b[39;00m err:\n",
      "File \u001b[0;32mindex.pyx:167\u001b[0m, in \u001b[0;36mpandas._libs.index.IndexEngine.get_loc\u001b[0;34m()\u001b[0m\n",
      "File \u001b[0;32mindex.pyx:196\u001b[0m, in \u001b[0;36mpandas._libs.index.IndexEngine.get_loc\u001b[0;34m()\u001b[0m\n",
      "File \u001b[0;32mpandas/_libs/hashtable_class_helper.pxi:7081\u001b[0m, in \u001b[0;36mpandas._libs.hashtable.PyObjectHashTable.get_item\u001b[0;34m()\u001b[0m\n",
      "File \u001b[0;32mpandas/_libs/hashtable_class_helper.pxi:7089\u001b[0m, in \u001b[0;36mpandas._libs.hashtable.PyObjectHashTable.get_item\u001b[0;34m()\u001b[0m\n",
      "\u001b[0;31mKeyError\u001b[0m: '57'",
      "\nThe above exception was the direct cause of the following exception:\n",
      "\u001b[0;31mKeyError\u001b[0m                                  Traceback (most recent call last)",
      "Cell \u001b[0;32mIn[10], line 4\u001b[0m\n\u001b[1;32m      1\u001b[0m plt\u001b[38;5;241m.\u001b[39mfigure(figsize\u001b[38;5;241m=\u001b[39m(\u001b[38;5;241m16\u001b[39m,\u001b[38;5;241m4\u001b[39m))\n\u001b[1;32m      3\u001b[0m station_id \u001b[38;5;241m=\u001b[39m \u001b[38;5;124m'\u001b[39m\u001b[38;5;124m57\u001b[39m\u001b[38;5;124m'\u001b[39m\n\u001b[0;32m----> 4\u001b[0m plt\u001b[38;5;241m.\u001b[39mplot(\u001b[43mO\u001b[49m\u001b[43m[\u001b[49m\u001b[43mstation_id\u001b[49m\u001b[43m]\u001b[49m, label\u001b[38;5;241m=\u001b[39m\u001b[38;5;124m'\u001b[39m\u001b[38;5;124mOriginal\u001b[39m\u001b[38;5;124m'\u001b[39m)\n\u001b[1;32m      5\u001b[0m plt\u001b[38;5;241m.\u001b[39mplot(S[station_id], label\u001b[38;5;241m=\u001b[39m\u001b[38;5;124m'\u001b[39m\u001b[38;5;124mImputed\u001b[39m\u001b[38;5;124m'\u001b[39m)\n\u001b[1;32m      6\u001b[0m plt\u001b[38;5;241m.\u001b[39mplot(\u001b[38;5;28mabs\u001b[39m(O[station_id] \u001b[38;5;241m-\u001b[39m S[station_id])\u001b[38;5;241m+\u001b[39m\u001b[38;5;241m20\u001b[39m, label\u001b[38;5;241m=\u001b[39m\u001b[38;5;124m'\u001b[39m\u001b[38;5;124mError\u001b[39m\u001b[38;5;124m'\u001b[39m)\n",
      "File \u001b[0;32m~/miniforge3/lib/python3.12/site-packages/pandas/core/frame.py:4102\u001b[0m, in \u001b[0;36mDataFrame.__getitem__\u001b[0;34m(self, key)\u001b[0m\n\u001b[1;32m   4100\u001b[0m \u001b[38;5;28;01mif\u001b[39;00m \u001b[38;5;28mself\u001b[39m\u001b[38;5;241m.\u001b[39mcolumns\u001b[38;5;241m.\u001b[39mnlevels \u001b[38;5;241m>\u001b[39m \u001b[38;5;241m1\u001b[39m:\n\u001b[1;32m   4101\u001b[0m     \u001b[38;5;28;01mreturn\u001b[39;00m \u001b[38;5;28mself\u001b[39m\u001b[38;5;241m.\u001b[39m_getitem_multilevel(key)\n\u001b[0;32m-> 4102\u001b[0m indexer \u001b[38;5;241m=\u001b[39m \u001b[38;5;28;43mself\u001b[39;49m\u001b[38;5;241;43m.\u001b[39;49m\u001b[43mcolumns\u001b[49m\u001b[38;5;241;43m.\u001b[39;49m\u001b[43mget_loc\u001b[49m\u001b[43m(\u001b[49m\u001b[43mkey\u001b[49m\u001b[43m)\u001b[49m\n\u001b[1;32m   4103\u001b[0m \u001b[38;5;28;01mif\u001b[39;00m is_integer(indexer):\n\u001b[1;32m   4104\u001b[0m     indexer \u001b[38;5;241m=\u001b[39m [indexer]\n",
      "File \u001b[0;32m~/miniforge3/lib/python3.12/site-packages/pandas/core/indexes/base.py:3812\u001b[0m, in \u001b[0;36mIndex.get_loc\u001b[0;34m(self, key)\u001b[0m\n\u001b[1;32m   3807\u001b[0m     \u001b[38;5;28;01mif\u001b[39;00m \u001b[38;5;28misinstance\u001b[39m(casted_key, \u001b[38;5;28mslice\u001b[39m) \u001b[38;5;129;01mor\u001b[39;00m (\n\u001b[1;32m   3808\u001b[0m         \u001b[38;5;28misinstance\u001b[39m(casted_key, abc\u001b[38;5;241m.\u001b[39mIterable)\n\u001b[1;32m   3809\u001b[0m         \u001b[38;5;129;01mand\u001b[39;00m \u001b[38;5;28many\u001b[39m(\u001b[38;5;28misinstance\u001b[39m(x, \u001b[38;5;28mslice\u001b[39m) \u001b[38;5;28;01mfor\u001b[39;00m x \u001b[38;5;129;01min\u001b[39;00m casted_key)\n\u001b[1;32m   3810\u001b[0m     ):\n\u001b[1;32m   3811\u001b[0m         \u001b[38;5;28;01mraise\u001b[39;00m InvalidIndexError(key)\n\u001b[0;32m-> 3812\u001b[0m     \u001b[38;5;28;01mraise\u001b[39;00m \u001b[38;5;167;01mKeyError\u001b[39;00m(key) \u001b[38;5;28;01mfrom\u001b[39;00m\u001b[38;5;250m \u001b[39m\u001b[38;5;21;01merr\u001b[39;00m\n\u001b[1;32m   3813\u001b[0m \u001b[38;5;28;01mexcept\u001b[39;00m \u001b[38;5;167;01mTypeError\u001b[39;00m:\n\u001b[1;32m   3814\u001b[0m     \u001b[38;5;66;03m# If we have a listlike key, _check_indexing_error will raise\u001b[39;00m\n\u001b[1;32m   3815\u001b[0m     \u001b[38;5;66;03m#  InvalidIndexError. Otherwise we fall through and re-raise\u001b[39;00m\n\u001b[1;32m   3816\u001b[0m     \u001b[38;5;66;03m#  the TypeError.\u001b[39;00m\n\u001b[1;32m   3817\u001b[0m     \u001b[38;5;28mself\u001b[39m\u001b[38;5;241m.\u001b[39m_check_indexing_error(key)\n",
      "\u001b[0;31mKeyError\u001b[0m: '57'"
     ]
    },
    {
     "data": {
      "text/plain": [
       "<Figure size 1600x400 with 0 Axes>"
      ]
     },
     "metadata": {},
     "output_type": "display_data"
    }
   ],
   "source": [
    "plt.figure(figsize=(16,4))\n",
    "\n",
    "station_id = '57'\n",
    "plt.plot(O[station_id], label='Original')\n",
    "plt.plot(S[station_id], label='Imputed')\n",
    "plt.plot(abs(O[station_id] - S[station_id])+20, label='Error')\n",
    "\n",
    "plt.legend()\n",
    "plt.show()"
   ]
  },
  {
   "cell_type": "code",
   "execution_count": 9,
   "id": "49f9e312-a287-48b0-8c9d-e85b33d7d9fe",
   "metadata": {},
   "outputs": [
    {
     "data": {
      "application/vnd.jupyter.widget-view+json": {
       "model_id": "ef65940e0cbc40d3bced50d876fd61f4",
       "version_major": 2,
       "version_minor": 0
      },
      "text/plain": [
       "Processing:   0%|          | 0/4 [00:00<?, ?it/s]"
      ]
     },
     "metadata": {},
     "output_type": "display_data"
    }
   ],
   "source": [
    "performance = {}\n",
    "gap_types = 'continous'\n",
    "methods = ['KNN', 'LR', 'MICE', 'MF']\n",
    "\n",
    "for method in tqdm(methods, desc=\"Processing\"):\n",
    "    performance[method] = { 'R2': { 'x': [], 'y': [] }, 'PBIAS': { 'x': [], 'y': []}, 'KGE': {'x': [], 'y': [] }, 'MAE': { 'x': [], 'y': []}, 'RMSE': {'x': [], 'y': [] } }\n",
    "    \n",
    "    for q in [6, 12, 24]:\n",
    "        for p in [7, 14, 21, 35, 56, 91,]:\n",
    "    \n",
    "            suffix = f'_{gap_type}_{p}_{q}_{method}'\n",
    "    \n",
    "            with open(f'gaps_{gap_type}_{p}_{q}.yaml') as file:\n",
    "                metadata = yaml.safe_load(file)\n",
    "\n",
    "            missing_data = metadata['missing']\n",
    "                \n",
    "            O = pd.read_csv(f'obs{suffix}.csv', index_col=0)\n",
    "            S = pd.read_csv(f'sim{suffix}.csv', index_col=0)\n",
    "            \n",
    "            results = gof(S, O)\n",
    "\n",
    "            for metric in ['R2', 'PBIAS', 'KGE', 'MAE', 'RMSE']:\n",
    "                performance[method][metric]['x'].append(missing_data)\n",
    "                performance[method][metric]['y'].append(results[metric].mean())\n",
    "            \n",
    "    for metric in ['R2', 'PBIAS', 'KGE', 'MAE', 'RMSE']:\n",
    "        performance[method][metric] = pd.DataFrame(performance[method][metric])"
   ]
  },
  {
   "cell_type": "code",
   "execution_count": 10,
   "id": "a78c2cae-043f-406e-91d1-31c453fef071",
   "metadata": {},
   "outputs": [
    {
     "data": {
      "image/png": "[encoded data removed]",
      "text/plain": [
       "<Figure size 1000x600 with 2 Axes>"
      ]
     },
     "metadata": {},
     "output_type": "display_data"
    }
   ],
   "source": [
    "fig, ax = plt.subplots(2, 1, figsize=(10, 6))\n",
    "\n",
    "methods = ['LR', 'KNN', 'MICE', 'MF']\n",
    "for i, method in enumerate(methods):\n",
    "\n",
    "    ax[0].plot(performance[method]['MAE']['x'], performance[method]['MAE']['y'],'o', label=method)\n",
    "    ax[0].legend()\n",
    "    ax[0].set_ylabel(r'MAE = $\\frac{1}{n}\\sum|\\hat{y_i} - y_i|$')\n",
    "    ax[0].set_title('MAE')\n",
    "\n",
    "    ax[1].plot(performance[method]['RMSE']['x'], performance[method]['RMSE']['y'],'o', label=method)\n",
    "    ax[1].legend()\n",
    "    ax[1].set_ylabel(r'RMSE = $\\sqrt{\\frac{1}{n}\\sum(\\hat{y_i} - y_i)^2}$')\n",
    "    ax[1].set_xlabel('Percent missing data')\n",
    "    ax[0].set_title('RMSE')\n",
    "    \n",
    "plt.show()"
   ]
  },
  {
   "cell_type": "markdown",
   "id": "482cdb52-6d17-4365-aa15-1487a6558003",
   "metadata": {},
   "source": [
    "# Determine hyperparameter n for KNN"
   ]
  },
  {
   "cell_type": "code",
   "execution_count": 89,
   "id": "9667fd0b-0e33-46b2-b959-db5f5034dd03",
   "metadata": {},
   "outputs": [
    {
     "data": {
      "application/vnd.jupyter.widget-view+json": {
       "model_id": "4bbed4db71614d18844cb37d06bdf768",
       "version_major": 2,
       "version_minor": 0
      },
      "text/plain": [
       "  0%|          | 0/9 [00:00<?, ?it/s]"
      ]
     },
     "metadata": {},
     "output_type": "display_data"
    }
   ],
   "source": [
    "method = 'KNN'\n",
    "gap_type = 'continuous'\n",
    "\n",
    "metrics_MAE = []\n",
    "metrics_RMSE = []\n",
    "metrics_n = []\n",
    "            \n",
    "for n in tqdm([2,3,5,7,9,11,13,15,19]):\n",
    "    params = {'n_estimators': 10,\n",
    "              'max_iter' : 10,\n",
    "              'n_neighbors' : n}\n",
    "    \n",
    "    method = f'KNN_{n}'\n",
    "    \n",
    "    p = 56 # gap length\n",
    "    q = 24 # number of sites that have missing data\n",
    "           \n",
    "    run_experiment(gap_type=gap_type, p=p, q=q, method=method, params=params)\n",
    "\n",
    "    # calculate errors\n",
    "    suffix = f'_{gap_type}_{p}_{q}_{method}'\n",
    "    \n",
    "    with open(f'gaps_{gap_type}_{p}_{q}.yaml') as file:\n",
    "        metadata = yaml.safe_load(file)\n",
    "\n",
    "    missing_data = metadata['missing']\n",
    "        \n",
    "    O = pd.read_csv(f'obs{suffix}.csv', index_col=0)\n",
    "    S = pd.read_csv(f'sim{suffix}.csv', index_col=0)\n",
    "    \n",
    "    error = O - S\n",
    "    MAE = np.mean(abs(error))\n",
    "    RMSE = np.sqrt(np.mean((error)**2))\n",
    "\n",
    "    metrics_n.append(n)\n",
    "    metrics_MAE.append(MAE)\n",
    "    metrics_RMSE.append(RMSE)\n",
    "       "
   ]
  },
  {
   "cell_type": "code",
   "execution_count": 93,
   "id": "8925ca3f-567c-484a-afd3-d611d09a5b9f",
   "metadata": {},
   "outputs": [
    {
     "data": {
      "image/png": "[encoded data removed]",
      "text/plain": [
       "<Figure size 800x600 with 2 Axes>"
      ]
     },
     "metadata": {},
     "output_type": "display_data"
    }
   ],
   "source": [
    "fig, ax = plt.subplots(2, 1, figsize=(8, 6))\n",
    "\n",
    "ax[0].set_title(f'Error vs KNN hyperparameter n\\np={p} gap length for q={q} sites ({missing_data:.1f}% missing data)')\n",
    "ax[0].plot(metrics_n, metrics_MAE, 'o')\n",
    "ax[0].set_xticks(metrics_n)\n",
    "ax[0].set_ylabel('MAE')\n",
    "ax[1].plot(metrics_n, metrics_RMSE, 'o')\n",
    "ax[1].set_ylabel('RMSE')\n",
    "ax[1].set_xlabel('n')\n",
    "ax[1].set_xticks(metrics_n)\n",
    "\n",
    "plt.show()"
   ]
  },
  {
   "cell_type": "markdown",
   "id": "fcb7461b-f765-4392-96ef-aac1b1286508",
   "metadata": {},
   "source": [
    "# Iterations of MICE"
   ]
  },
  {
   "cell_type": "code",
   "execution_count": 133,
   "id": "4c24af18-b502-48bc-87b5-c120435cc9c7",
   "metadata": {},
   "outputs": [
    {
     "data": {
      "application/vnd.jupyter.widget-view+json": {
       "model_id": "4562fb243c2d49729ad780e752157e25",
       "version_major": 2,
       "version_minor": 0
      },
      "text/plain": [
       "  0%|          | 0/6 [00:00<?, ?it/s]"
      ]
     },
     "metadata": {},
     "output_type": "display_data"
    }
   ],
   "source": [
    "method = 'MICE'\n",
    "gap_type = 'continuous'\n",
    "\n",
    "metrics_MAE = []\n",
    "metrics_RMSE = []\n",
    "metrics_n = []\n",
    "            \n",
    "for n in tqdm([1, 2, 3, 4, 5, 6]):\n",
    "    params = { 'n_iterations' : n }\n",
    "    \n",
    "    method = f'MICE_{n}'\n",
    "    \n",
    "    p = 56 # gap length\n",
    "    q = 24 # number of sites that have missing data\n",
    "           \n",
    "    run_experiment(gap_type=gap_type, p=p, q=q, method=method, params=params)\n",
    "\n",
    "    # calculate errors\n",
    "    suffix = f'_{gap_type}_{p}_{q}_{method}'\n",
    "    \n",
    "    with open(f'gaps_{gap_type}_{p}_{q}.yaml') as file:\n",
    "        metadata = yaml.safe_load(file)\n",
    "\n",
    "    missing_data = metadata['missing']\n",
    "        \n",
    "    O = pd.read_csv(f'obs{suffix}.csv', index_col=0)\n",
    "    S = pd.read_csv(f'sim{suffix}.csv', index_col=0)\n",
    "    \n",
    "    error = O - S\n",
    "    MAE = np.mean(abs(error))\n",
    "    RMSE = np.sqrt(np.mean((error)**2))\n",
    "\n",
    "    metrics_n.append(n)\n",
    "    metrics_MAE.append(MAE)\n",
    "    metrics_RMSE.append(RMSE)\n",
    "       "
   ]
  },
  {
   "cell_type": "code",
   "execution_count": 135,
   "id": "9118e2b1-d12c-4b8d-8d14-fa5306dfa743",
   "metadata": {},
   "outputs": [
    {
     "data": {
      "image/png": "[encoded data removed]",
      "text/plain": [
       "<Figure size 800x600 with 2 Axes>"
      ]
     },
     "metadata": {},
     "output_type": "display_data"
    }
   ],
   "source": [
    "fig, ax = plt.subplots(2, 1, figsize=(8, 6))\n",
    "\n",
    "ax[0].set_title(f'Error vs MICE iterations\\np={p} gap length for q={q} sites ({missing_data:.1f}% missing data)')\n",
    "ax[0].plot(metrics_n, metrics_MAE, 'o')\n",
    "ax[0].set_xticks(metrics_n)\n",
    "ax[0].set_ylabel('MAE')\n",
    "ax[1].plot(metrics_n, metrics_RMSE, 'o')\n",
    "ax[1].set_ylabel('RMSE')\n",
    "ax[1].set_xlabel('n')\n",
    "ax[1].set_xticks(metrics_n)\n",
    "\n",
    "plt.show()"
   ]
  },
  {
   "cell_type": "markdown",
   "id": "d9382199-74cf-4b90-951d-d9eb097b1f77",
   "metadata": {},
   "source": [
    "# MissForest"
   ]
  },
  {
   "cell_type": "code",
   "execution_count": 44,
   "id": "1fc2949a-63cc-4072-bd7d-97716f75424e",
   "metadata": {},
   "outputs": [
    {
     "data": {
      "application/vnd.jupyter.widget-view+json": {
       "model_id": "27fa203a311c4554a219dee2ee4b4459",
       "version_major": 2,
       "version_minor": 0
      },
      "text/plain": [
       "  0%|          | 0/2 [00:00<?, ?it/s]"
      ]
     },
     "metadata": {},
     "output_type": "display_data"
    },
    {
     "name": "stderr",
     "output_type": "stream",
     "text": [
      "\n",
      "\u001b[A%|                                                                                             | 0/5 [00:00<?, ?it/s]\n",
      "\u001b[A%|█████████████████                                                                    | 1/5 [00:01<00:07,  1.88s/it]\n",
      "\u001b[A%|██████████████████████████████████                                                   | 2/5 [00:09<00:16,  5.54s/it]\n",
      "\u001b[A%|███████████████████████████████████████████████████                                  | 3/5 [00:11<00:07,  3.81s/it]\n",
      "\u001b[A%|████████████████████████████████████████████████████████████████████                 | 4/5 [00:13<00:03,  3.03s/it]\n",
      "100%|█████████████████████████████████████████████████████████████████████████████████████| 5/5 [00:15<00:00,  3.17s/it]\n",
      "\n",
      "\u001b[A%|                                                                                             | 0/5 [00:00<?, ?it/s]\n",
      "\u001b[A%|█████████████████                                                                    | 1/5 [00:00<00:00,  5.56it/s]\n",
      "\u001b[A%|██████████████████████████████████                                                   | 2/5 [00:00<00:00,  5.41it/s]\n",
      "\u001b[A%|███████████████████████████████████████████████████                                  | 3/5 [00:00<00:00,  5.33it/s]\n",
      "\u001b[A%|████████████████████████████████████████████████████████████████████                 | 4/5 [00:00<00:00,  5.25it/s]\n",
      "100%|█████████████████████████████████████████████████████████████████████████████████████| 5/5 [00:00<00:00,  5.27it/s]\n",
      "\n",
      "\u001b[A%|                                                                                             | 0/5 [00:00<?, ?it/s]\n",
      "\u001b[A%|█████████████████                                                                    | 1/5 [00:08<00:34,  8.56s/it]\n",
      "\u001b[A%|██████████████████████████████████                                                   | 2/5 [00:11<00:15,  5.20s/it]\n",
      "\u001b[A%|███████████████████████████████████████████████████                                  | 3/5 [00:14<00:08,  4.13s/it]\n",
      "\u001b[A%|████████████████████████████████████████████████████████████████████                 | 4/5 [00:17<00:03,  3.62s/it]\n",
      "100%|█████████████████████████████████████████████████████████████████████████████████████| 5/5 [00:25<00:00,  5.11s/it]\n",
      "\n",
      "\u001b[A%|                                                                                             | 0/5 [00:00<?, ?it/s]\n",
      "\u001b[A%|█████████████████                                                                    | 1/5 [00:00<00:00,  5.08it/s]\n",
      "\u001b[A%|██████████████████████████████████                                                   | 2/5 [00:00<00:00,  5.12it/s]\n",
      "\u001b[A%|███████████████████████████████████████████████████                                  | 3/5 [00:00<00:00,  5.14it/s]\n",
      "\u001b[A%|████████████████████████████████████████████████████████████████████                 | 4/5 [00:00<00:00,  5.12it/s]\n",
      "100%|█████████████████████████████████████████████████████████████████████████████████████| 5/5 [00:00<00:00,  5.11it/s]\n"
     ]
    },
    {
     "name": "stdout",
     "output_type": "stream",
     "text": [
      "[np.float64(0.04678744403555116), np.float64(0.05632998990049824)]\n",
      "[np.float64(0.5353602806078334), np.float64(0.6057448778297323)]\n"
     ]
    }
   ],
   "source": [
    "method = 'MF'\n",
    "gap_type = 'continuous'\n",
    "\n",
    "metrics_MAE = []\n",
    "metrics_RMSE = []\n",
    "metrics_n = []\n",
    "\n",
    "from lightgbm import LGBMClassifier\n",
    "from lightgbm import LGBMRegressor\n",
    "\n",
    "for n in tqdm([50, 100]):\n",
    "\n",
    "    \n",
    "    lgbm_clf = LGBMClassifier(verbosity=-1, linear_tree=True)\n",
    "    lgbm_rgr = LGBMRegressor(n_estimators=n, num_leaves=10, n_jobs=-1)\n",
    "\n",
    "    params = { 'clf' : lgbm_clf,\n",
    "               'rgr' : lgbm_rgr,\n",
    "               'verbose' : 1}\n",
    "    \n",
    "    method = f'MF_{n}'\n",
    "    \n",
    "    p = 56 # gap length\n",
    "    q = 24 # number of sites that have missing data\n",
    "           \n",
    "    run_experiment(gap_type=gap_type, p=p, q=q, method=method, params=params)\n",
    "\n",
    "    # calculate errors\n",
    "    suffix = f'_{gap_type}_{p}_{q}_{method}'\n",
    "    \n",
    "    with open(f'gaps_{gap_type}_{p}_{q}.yaml') as file:\n",
    "        metadata = yaml.safe_load(file)\n",
    "\n",
    "    missing_data = metadata['missing']\n",
    "        \n",
    "    O = pd.read_csv(f'obs{suffix}.csv', index_col=0)\n",
    "    S = pd.read_csv(f'sim{suffix}.csv', index_col=0)\n",
    "    \n",
    "    error = O - S\n",
    "    MAE = np.mean(abs(error))\n",
    "    RMSE = np.sqrt(np.mean((error)**2))\n",
    "\n",
    "    metrics_n.append(n)\n",
    "    metrics_MAE.append(MAE)\n",
    "    metrics_RMSE.append(RMSE)\n",
    "\n",
    "\n",
    "print(metrics_MAE)\n",
    "print(metrics_RMSE)"
   ]
  },
  {
   "cell_type": "code",
   "execution_count": null,
   "id": "42180914-f7ad-4048-9657-6f7a0912e6cc",
   "metadata": {},
   "outputs": [],
   "source": []
  },
  {
   "cell_type": "code",
   "execution_count": 45,
   "id": "263c5940-d720-45b8-9074-00552ffbb9fc",
   "metadata": {},
   "outputs": [
    {
     "data": {
      "image/png": "[encoded data removed]",
      "text/plain": [
       "<Figure size 800x600 with 2 Axes>"
      ]
     },
     "metadata": {},
     "output_type": "display_data"
    }
   ],
   "source": [
    "fig, ax = plt.subplots(2, 1, figsize=(8, 6))\n",
    "\n",
    "ax[0].set_title(f'Error vs MissForest n_estimators\\np={p} gap length for q={q} sites ({missing_data:.1f}% missing data)')\n",
    "ax[0].plot(metrics_n, metrics_MAE, 'o')\n",
    "ax[0].set_xticks(metrics_n)\n",
    "ax[0].set_ylabel('MAE')\n",
    "ax[1].plot(metrics_n, metrics_RMSE, 'o')\n",
    "ax[1].set_ylabel('RMSE')\n",
    "ax[1].set_xlabel('n')\n",
    "ax[1].set_xticks(metrics_n)\n",
    "\n",
    "plt.show()"
   ]
  },
  {
   "cell_type": "code",
   "execution_count": 29,
   "id": "2125618b-c218-40bf-9971-7060e1914941",
   "metadata": {},
   "outputs": [
    {
     "name": "stdout",
     "output_type": "stream",
     "text": [
      "2211\n",
      "450\n",
      "2211\n",
      "0\n",
      "2211\n",
      "450\n",
      "2211\n",
      "0\n",
      "2211\n",
      "450\n",
      "2211\n",
      "0\n",
      "2211\n",
      "458\n",
      "2211\n",
      "0\n",
      "2211\n",
      "450\n",
      "2211\n",
      "0\n",
      "2211\n",
      "450\n",
      "2211\n",
      "0\n",
      "2211\n",
      "450\n",
      "2211\n",
      "0\n",
      "2211\n",
      "458\n",
      "2211\n",
      "0\n"
     ]
    }
   ],
   "source": [
    "performance = {}\n",
    "gap_types = ['continuous']\n",
    "\n",
    "for gap_type in gap_types:\n",
    "\n",
    "    performance[gap_type] = { 'R2': {}, 'PBIAS': {}, 'KGE': {} }\n",
    "    \n",
    "    for q in [12, 24]:\n",
    "        for p in [7, 14, 21, 35]:\n",
    "            for method in ['LR', 'KNN']:\n",
    "                suffix = f'_{gap_type}_{p}_{q}_{method}'\n",
    "\n",
    "                O = pd.read_csv(f'obs{suffix}.csv', index_col=0)\n",
    "                S = pd.read_csv(f'sim{suffix}.csv', index_col=0)\n",
    "                \n",
    "                results = gof(S, O)\n",
    "        \n",
    "                position = f'{p}_{q} {method}'\n",
    "                performance[gap_type]['R2'][position] = results['R2']\n",
    "                performance[gap_type]['PBIAS'][position] = results['PBIAS']\n",
    "                performance[gap_type]['KGE'][position] = results['KGE']\n",
    "        \n",
    "    for metric in ['R2', 'PBIAS', 'KGE']:\n",
    "        performance[gap_type][metric] = pd.DataFrame(performance[gap_type][metric])"
   ]
  },
  {
   "cell_type": "code",
   "execution_count": 21,
   "id": "7644a3cd-df21-48a1-b808-757d0860097a",
   "metadata": {},
   "outputs": [
    {
     "data": {
      "image/png": "[encoded data removed]",
      "text/plain": [
       "<Figure size 1200x1600 with 6 Axes>"
      ]
     },
     "metadata": {},
     "output_type": "display_data"
    }
   ],
   "source": [
    "fig, ax = plt.subplots(3, 2, figsize=(12, 16))\n",
    "\n",
    "for i, gap_type in enumerate(gap_types):\n",
    "    labels = list(performance[gap_type]['R2'].columns)\n",
    "    \n",
    "    ax[0,i].boxplot(performance[gap_type]['R2'])\n",
    "    ax[0,i].set_xticklabels(labels, rotation=90)\n",
    "    ax[0,i].set_title('$R^2$')\n",
    "\n",
    "    ax[1,i].boxplot(performance[gap_type]['PBIAS'])\n",
    "    ax[1,i].set_xticklabels(labels, rotation=90)\n",
    "    ax[1,i].set_title('PBIAS (%)')\n",
    "\n",
    "    ax[2,i].boxplot(performance[gap_type]['KGE'])\n",
    "    ax[2,i].set_xticklabels(labels, rotation=90)\n",
    "    ax[2,i].set_title('KGE')\n",
    "    \n",
    "plt.show()"
   ]
  },
  {
   "cell_type": "code",
   "execution_count": null,
   "id": "c1c05d64-0d2c-4579-9387-683b2305d990",
   "metadata": {},
   "outputs": [],
   "source": []
  },
  {
   "cell_type": "code",
   "execution_count": null,
   "id": "f739cbd6-2163-456b-adf3-0e58fa3f8120",
   "metadata": {},
   "outputs": [],
   "source": []
  }
 ],
 "metadata": {
  "kernelspec": {
   "display_name": "Python 3 (ipykernel)",
   "language": "python",
   "name": "python3"
  },
  "language_info": {
   "codemirror_mode": {
    "name": "ipython",
    "version": 3
   },
   "file_extension": ".py",
   "mimetype": "text/x-python",
   "name": "python",
   "nbconvert_exporter": "python",
   "pygments_lexer": "ipython3",
   "version": "3.10.16"
  }
 },
 "nbformat": 4,
 "nbformat_minor": 5
}
