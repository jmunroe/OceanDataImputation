{
 "cells": [
  {
   "cell_type": "markdown",
   "id": "b99ae79a-f581-4801-8fd6-b10b0c645e33",
   "metadata": {},
   "source": [
    "# MICE: Multiple Imputation by Chained Equations"
   ]
  },
  {
   "cell_type": "code",
   "execution_count": 1,
   "id": "a2bdb857-9fe5-40a2-a4a4-444dad8c1444",
   "metadata": {},
   "outputs": [
    {
     "name": "stdout",
     "output_type": "stream",
     "text": [
      "Original Data:\n",
      "     A    B    C\n",
      "0  1.0  NaN  1.0\n",
      "1  2.0  2.0  NaN\n",
      "2  NaN  3.1  3.0\n",
      "3  4.2  4.0  4.0\n",
      "4  5.0  5.0  5.0\n",
      "\n",
      "Imputed Data:\n",
      "     A    B    C\n",
      "0  1.0  3.1  1.0\n",
      "1  2.0  2.0  3.0\n",
      "2  2.0  3.1  3.0\n",
      "3  4.2  4.0  4.0\n",
      "4  5.0  5.0  5.0\n"
     ]
    }
   ],
   "source": [
    "import pandas as pd\n",
    "import numpy as np\n",
    "from statsmodels.imputation.mice import MICEData\n",
    "\n",
    "# Sample data with missing values\n",
    "data = {\n",
    "    'A': [1, 2, np.nan, 4.2, 5],\n",
    "    'B': [np.nan, 2, 3.1, 4, 5],\n",
    "    'C': [1, np.nan, 3, 4, 5]\n",
    "}\n",
    "df = pd.DataFrame(data)\n",
    "\n",
    "# Initialize MICEData object\n",
    "mice_data = MICEData(df)\n",
    "\n",
    "# Perform MICE imputation\n",
    "imputed_data = mice_data.data\n",
    "\n",
    "print(\"Original Data:\")\n",
    "print(df)\n",
    "print(\"\\nImputed Data:\")\n",
    "print(imputed_data)"
   ]
  },
  {
   "cell_type": "code",
   "execution_count": 2,
   "id": "5c93e4f4-8b8b-4876-ba0f-4e535a7ea005",
   "metadata": {},
   "outputs": [
    {
     "name": "stdout",
     "output_type": "stream",
     "text": [
      "     A    B    C\n",
      "0  1.0  2.0  1.0\n",
      "1  2.0  2.0  1.0\n",
      "2  1.0  3.1  3.0\n",
      "3  4.2  4.0  4.0\n",
      "4  5.0  5.0  5.0\n"
     ]
    }
   ],
   "source": [
    "mice_data.update_all(10)\n",
    "print(mice_data.data)"
   ]
  },
  {
   "cell_type": "markdown",
   "id": "8f6358f4-cdd9-435d-8dc1-978858571145",
   "metadata": {},
   "source": [
    "Load dataset"
   ]
  },
  {
   "cell_type": "code",
   "execution_count": 4,
   "id": "cee7dfdb-4391-4aaf-8779-d3f9db8c58a9",
   "metadata": {},
   "outputs": [],
   "source": [
    "df = pd.read_csv('dataset.csv', parse_dates=True, index_col=0)\n",
    "\n",
    "df = df.rename(columns = lambda x: 'S'+x)\n",
    "\n",
    "   \n",
    "# Calculate the percentage of non-missing data for each study site\n",
    "non_missing_percentage = df.notna().mean() * 100\n",
    "\n",
    "# Filter study sites with at least 90% non-missing data\n",
    "selected_sites = non_missing_percentage[non_missing_percentage >= 90].index\n",
    "df_selected = df[selected_sites]"
   ]
  },
  {
   "cell_type": "markdown",
   "id": "28d7a735-1595-4972-8020-069a801e5c39",
   "metadata": {},
   "source": [
    "Introduce artificial gaps"
   ]
  },
  {
   "cell_type": "code",
   "execution_count": 5,
   "id": "55ef91cf-3e09-4d31-9830-9384ceaf5e72",
   "metadata": {},
   "outputs": [
    {
     "ename": "ValueError",
     "evalue": "Cannot take a larger sample than population when 'replace=False'",
     "output_type": "error",
     "traceback": [
      "\u001b[0;31m---------------------------------------------------------------------------\u001b[0m",
      "\u001b[0;31mValueError\u001b[0m                                Traceback (most recent call last)",
      "Cell \u001b[0;32mIn[5], line 11\u001b[0m\n\u001b[1;32m      9\u001b[0m gaps \u001b[38;5;241m=\u001b[39m {}\n\u001b[1;32m     10\u001b[0m \u001b[38;5;66;03m# randomly set a n-day contiguous segment as missing for each column\u001b[39;00m\n\u001b[0;32m---> 11\u001b[0m random_columns \u001b[38;5;241m=\u001b[39m \u001b[43mnp\u001b[49m\u001b[38;5;241;43m.\u001b[39;49m\u001b[43mrandom\u001b[49m\u001b[38;5;241;43m.\u001b[39;49m\u001b[43mchoice\u001b[49m\u001b[43m(\u001b[49m\u001b[43mdf\u001b[49m\u001b[38;5;241;43m.\u001b[39;49m\u001b[43mcolumns\u001b[49m\u001b[43m,\u001b[49m\u001b[43m \u001b[49m\u001b[43msize\u001b[49m\u001b[38;5;241;43m=\u001b[39;49m\u001b[43mq\u001b[49m\u001b[43m,\u001b[49m\u001b[43m \u001b[49m\u001b[43mreplace\u001b[49m\u001b[38;5;241;43m=\u001b[39;49m\u001b[38;5;28;43;01mFalse\u001b[39;49;00m\u001b[43m)\u001b[49m\n\u001b[1;32m     13\u001b[0m N \u001b[38;5;241m=\u001b[39m \u001b[38;5;28mlen\u001b[39m(df\u001b[38;5;241m.\u001b[39mvalues\u001b[38;5;241m.\u001b[39mflatten())\n\u001b[1;32m     14\u001b[0m m \u001b[38;5;241m=\u001b[39m df\u001b[38;5;241m.\u001b[39misnull()\u001b[38;5;241m.\u001b[39mvalues\u001b[38;5;241m.\u001b[39mflatten()\u001b[38;5;241m.\u001b[39msum()\n",
      "File \u001b[0;32mnumpy/random/mtrand.pyx:1020\u001b[0m, in \u001b[0;36mnumpy.random.mtrand.RandomState.choice\u001b[0;34m()\u001b[0m\n",
      "\u001b[0;31mValueError\u001b[0m: Cannot take a larger sample than population when 'replace=False'"
     ]
    }
   ],
   "source": [
    "q = 24\n",
    "p = 56\n",
    "\n",
    "# artifical gaps \n",
    "df = df_selected.copy()\n",
    "\n",
    "np.random.seed(4152)\n",
    "\n",
    "gaps = {}\n",
    "# randomly set a n-day contiguous segment as missing for each column\n",
    "random_columns = np.random.choice(df.columns, size=q, replace=False)\n",
    "\n",
    "N = len(df.values.flatten())\n",
    "m = df.isnull().values.flatten().sum()\n",
    "missing_data = m / N * 100\n",
    "\n",
    "for col in random_columns:\n",
    "    # Randomly select the start of the n-day segment\n",
    "    start_idx = np.random.randint(0, len(df) - p)\n",
    "    end_idx = start_idx + p\n",
    "\n",
    "    gaps[col] = [start_idx, end_idx]\n",
    "\n",
    "    # Set the values in this range to NaN\n",
    "    df.iloc[start_idx:end_idx, df.columns.get_loc(col)] = np.nan\n",
    "\n",
    "m = df.isnull().values.flatten().sum()\n",
    "\n",
    "missing_data = float(m / N * 100)"
   ]
  },
  {
   "cell_type": "markdown",
   "id": "a7dff759-4e08-4d46-87c0-180ac8493250",
   "metadata": {},
   "source": [
    "Impute with MICE"
   ]
  },
  {
   "cell_type": "code",
   "execution_count": 37,
   "id": "597a9ec3-7e02-456b-bd8d-1de5d6d89c0e",
   "metadata": {},
   "outputs": [],
   "source": [
    "# Initialize MICEData object\n",
    "mice_data = MICEData(df, k_pmm=7)"
   ]
  },
  {
   "cell_type": "code",
   "execution_count": 2,
   "id": "c597662e-3e06-420d-99d4-6bf33e1a0abd",
   "metadata": {},
   "outputs": [
    {
     "ename": "NameError",
     "evalue": "name 'mice_data' is not defined",
     "output_type": "error",
     "traceback": [
      "\u001b[0;31m---------------------------------------------------------------------------\u001b[0m",
      "\u001b[0;31mNameError\u001b[0m                                 Traceback (most recent call last)",
      "Cell \u001b[0;32mIn[2], line 1\u001b[0m\n\u001b[0;32m----> 1\u001b[0m \u001b[43mmice_data\u001b[49m\u001b[38;5;241m.\u001b[39mupdate_all()\n",
      "\u001b[0;31mNameError\u001b[0m: name 'mice_data' is not defined"
     ]
    }
   ],
   "source": [
    "mice_data.update_all()"
   ]
  },
  {
   "cell_type": "code",
   "execution_count": 1,
   "id": "886442ee-a47d-4f74-9162-35e2e69b3bdc",
   "metadata": {},
   "outputs": [
    {
     "ename": "NameError",
     "evalue": "name 'mice_data' is not defined",
     "output_type": "error",
     "traceback": [
      "\u001b[0;31m---------------------------------------------------------------------------\u001b[0m",
      "\u001b[0;31mNameError\u001b[0m                                 Traceback (most recent call last)",
      "Cell \u001b[0;32mIn[1], line 1\u001b[0m\n\u001b[0;32m----> 1\u001b[0m \u001b[43mmice_data\u001b[49m\u001b[38;5;241m.\u001b[39mdata\n",
      "\u001b[0;31mNameError\u001b[0m: name 'mice_data' is not defined"
     ]
    }
   ],
   "source": [
    "mice_data.data"
   ]
  },
  {
   "cell_type": "code",
   "execution_count": null,
   "id": "22beb29d-bee2-4fcf-a678-5652cf5acf2d",
   "metadata": {},
   "outputs": [],
   "source": []
  }
 ],
 "metadata": {
  "kernelspec": {
   "display_name": "Python 3 (ipykernel)",
   "language": "python",
   "name": "python3"
  },
  "language_info": {
   "codemirror_mode": {
    "name": "ipython",
    "version": 3
   },
   "file_extension": ".py",
   "mimetype": "text/x-python",
   "name": "python",
   "nbconvert_exporter": "python",
   "pygments_lexer": "ipython3",
   "version": "3.12.8"
  }
 },
 "nbformat": 4,
 "nbformat_minor": 5
}
